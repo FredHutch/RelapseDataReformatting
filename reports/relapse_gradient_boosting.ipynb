{
 "cells": [
  {
   "cell_type": "code",
   "execution_count": 287,
   "metadata": {},
   "outputs": [],
   "source": [
    "import pandas as pd\n",
    "import seaborn as sns\n",
    "\n",
    "from sklearn.preprocessing import MultiLabelBinarizer\n",
    "from sklearn.metrics import average_precision_score\n"
   ]
  },
  {
   "cell_type": "markdown",
   "metadata": {},
   "source": [
    "## Data Manipulation"
   ]
  },
  {
   "cell_type": "code",
   "execution_count": 288,
   "metadata": {},
   "outputs": [],
   "source": [
    "raw_df = pd.read_pickle('../data/training_df.pkl')\n",
    "ddict = pd.read_pickle('../data_dict/data_dictionary.pkl')"
   ]
  },
  {
   "cell_type": "code",
   "execution_count": 289,
   "metadata": {},
   "outputs": [
    {
     "data": {
      "text/html": [
       "<div>\n",
       "<style scoped>\n",
       "    .dataframe tbody tr th:only-of-type {\n",
       "        vertical-align: middle;\n",
       "    }\n",
       "\n",
       "    .dataframe tbody tr th {\n",
       "        vertical-align: top;\n",
       "    }\n",
       "\n",
       "    .dataframe thead th {\n",
       "        text-align: right;\n",
       "    }\n",
       "</style>\n",
       "<table border=\"1\" class=\"dataframe\">\n",
       "  <thead>\n",
       "    <tr style=\"text-align: right;\">\n",
       "      <th></th>\n",
       "      <th>PID</th>\n",
       "      <th>numerics</th>\n",
       "      <th>codes</th>\n",
       "      <th>to_event</th>\n",
       "      <th>target</th>\n",
       "    </tr>\n",
       "  </thead>\n",
       "  <tbody>\n",
       "    <tr>\n",
       "      <td>0</td>\n",
       "      <td>0277965</td>\n",
       "      <td>[[], [], [], [], [], [], [], [], []]</td>\n",
       "      <td>[[33, 4, 69, 48, 465, 57, 59], [25, 119], [513...</td>\n",
       "      <td>[0, 3, 4, 22, 78, 83, 364, 1469, 1479]</td>\n",
       "      <td>0</td>\n",
       "    </tr>\n",
       "    <tr>\n",
       "      <td>1</td>\n",
       "      <td>0277965</td>\n",
       "      <td>[[], [], [], [], [], [], [], [], [], [], []]</td>\n",
       "      <td>[[33, 4, 69, 48, 465, 57, 59], [25, 119], [513...</td>\n",
       "      <td>[0, 3, 4, 22, 78, 83, 364, 1469, 1479, 1546, 1...</td>\n",
       "      <td>0</td>\n",
       "    </tr>\n",
       "    <tr>\n",
       "      <td>2</td>\n",
       "      <td>0277965</td>\n",
       "      <td>[[], [], [], [], [], [], [], [], [], [], [], [...</td>\n",
       "      <td>[[33, 4, 69, 48, 465, 57, 59], [25, 119], [513...</td>\n",
       "      <td>[0, 3, 4, 22, 78, 83, 364, 1469, 1479, 1546, 1...</td>\n",
       "      <td>1</td>\n",
       "    </tr>\n",
       "    <tr>\n",
       "      <td>3</td>\n",
       "      <td>0742011</td>\n",
       "      <td>[[], [], [], [], [], [], [], []]</td>\n",
       "      <td>[[32, 68, 5, 48, 119, 56, 25, 58, 59], [47, 53...</td>\n",
       "      <td>[0, 18, 62, 67, 113, 180, 259, 260]</td>\n",
       "      <td>0</td>\n",
       "    </tr>\n",
       "    <tr>\n",
       "      <td>4</td>\n",
       "      <td>0742011</td>\n",
       "      <td>[[], [], [], [], [], [], [], [], [], [], [], []]</td>\n",
       "      <td>[[32, 68, 5, 48, 119, 56, 25, 58, 59], [47, 53...</td>\n",
       "      <td>[0, 18, 62, 67, 113, 180, 259, 260, 278, 293, ...</td>\n",
       "      <td>0</td>\n",
       "    </tr>\n",
       "  </tbody>\n",
       "</table>\n",
       "</div>"
      ],
      "text/plain": [
       "       PID                                           numerics  \\\n",
       "0  0277965               [[], [], [], [], [], [], [], [], []]   \n",
       "1  0277965       [[], [], [], [], [], [], [], [], [], [], []]   \n",
       "2  0277965  [[], [], [], [], [], [], [], [], [], [], [], [...   \n",
       "3  0742011                   [[], [], [], [], [], [], [], []]   \n",
       "4  0742011   [[], [], [], [], [], [], [], [], [], [], [], []]   \n",
       "\n",
       "                                               codes  \\\n",
       "0  [[33, 4, 69, 48, 465, 57, 59], [25, 119], [513...   \n",
       "1  [[33, 4, 69, 48, 465, 57, 59], [25, 119], [513...   \n",
       "2  [[33, 4, 69, 48, 465, 57, 59], [25, 119], [513...   \n",
       "3  [[32, 68, 5, 48, 119, 56, 25, 58, 59], [47, 53...   \n",
       "4  [[32, 68, 5, 48, 119, 56, 25, 58, 59], [47, 53...   \n",
       "\n",
       "                                            to_event  target  \n",
       "0             [0, 3, 4, 22, 78, 83, 364, 1469, 1479]       0  \n",
       "1  [0, 3, 4, 22, 78, 83, 364, 1469, 1479, 1546, 1...       0  \n",
       "2  [0, 3, 4, 22, 78, 83, 364, 1469, 1479, 1546, 1...       1  \n",
       "3                [0, 18, 62, 67, 113, 180, 259, 260]       0  \n",
       "4  [0, 18, 62, 67, 113, 180, 259, 260, 278, 293, ...       0  "
      ]
     },
     "execution_count": 289,
     "metadata": {},
     "output_type": "execute_result"
    }
   ],
   "source": [
    "raw_df.head()"
   ]
  },
  {
   "cell_type": "code",
   "execution_count": 290,
   "metadata": {},
   "outputs": [],
   "source": [
    "event_days = []\n",
    "features = []\n",
    "ids = []\n",
    "targets = []\n",
    "\n",
    "for _, row in raw_df.iterrows():\n",
    "    feature = row.codes\n",
    "    pid = row.PID\n",
    "    target = row.target\n",
    "    \n",
    "    for day in range(len(row.to_event)):\n",
    "        event_days.append(row.to_event[day])\n",
    "        features.append(feature[day])\n",
    "        ids.append(pid)\n",
    "        targets.append(target)\n",
    "\n",
    "long_event = pd.DataFrame({\n",
    "    'PID': ids,\n",
    "    'feature': features,\n",
    "    'event_day': event_days,\n",
    "    'target': targets\n",
    "})        \n",
    "        \n",
    "    "
   ]
  },
  {
   "cell_type": "code",
   "execution_count": 291,
   "metadata": {},
   "outputs": [
    {
     "data": {
      "text/html": [
       "<div>\n",
       "<style scoped>\n",
       "    .dataframe tbody tr th:only-of-type {\n",
       "        vertical-align: middle;\n",
       "    }\n",
       "\n",
       "    .dataframe tbody tr th {\n",
       "        vertical-align: top;\n",
       "    }\n",
       "\n",
       "    .dataframe thead th {\n",
       "        text-align: right;\n",
       "    }\n",
       "</style>\n",
       "<table border=\"1\" class=\"dataframe\">\n",
       "  <thead>\n",
       "    <tr style=\"text-align: right;\">\n",
       "      <th></th>\n",
       "      <th>PID</th>\n",
       "      <th>feature</th>\n",
       "      <th>event_day</th>\n",
       "      <th>target</th>\n",
       "    </tr>\n",
       "  </thead>\n",
       "  <tbody>\n",
       "    <tr>\n",
       "      <td>0</td>\n",
       "      <td>0277965</td>\n",
       "      <td>[33, 4, 69, 48, 465, 57, 59]</td>\n",
       "      <td>0</td>\n",
       "      <td>0</td>\n",
       "    </tr>\n",
       "    <tr>\n",
       "      <td>1</td>\n",
       "      <td>0277965</td>\n",
       "      <td>[25, 119]</td>\n",
       "      <td>3</td>\n",
       "      <td>0</td>\n",
       "    </tr>\n",
       "    <tr>\n",
       "      <td>2</td>\n",
       "      <td>0277965</td>\n",
       "      <td>[513]</td>\n",
       "      <td>4</td>\n",
       "      <td>0</td>\n",
       "    </tr>\n",
       "    <tr>\n",
       "      <td>3</td>\n",
       "      <td>0277965</td>\n",
       "      <td>[47, 23, 533, 119, 535, 26]</td>\n",
       "      <td>22</td>\n",
       "      <td>0</td>\n",
       "    </tr>\n",
       "    <tr>\n",
       "      <td>4</td>\n",
       "      <td>0277965</td>\n",
       "      <td>[47, 532, 23, 537, 538]</td>\n",
       "      <td>78</td>\n",
       "      <td>0</td>\n",
       "    </tr>\n",
       "  </tbody>\n",
       "</table>\n",
       "</div>"
      ],
      "text/plain": [
       "       PID                       feature  event_day  target\n",
       "0  0277965  [33, 4, 69, 48, 465, 57, 59]          0       0\n",
       "1  0277965                     [25, 119]          3       0\n",
       "2  0277965                         [513]          4       0\n",
       "3  0277965   [47, 23, 533, 119, 535, 26]         22       0\n",
       "4  0277965       [47, 532, 23, 537, 538]         78       0"
      ]
     },
     "execution_count": 291,
     "metadata": {},
     "output_type": "execute_result"
    }
   ],
   "source": [
    "long_event.head()"
   ]
  },
  {
   "cell_type": "code",
   "execution_count": 292,
   "metadata": {},
   "outputs": [],
   "source": [
    "mlb = MultiLabelBinarizer()\n",
    "df = long_event.join(pd.DataFrame(mlb.fit_transform(long_event.pop('feature')),\n",
    "                                  columns=mlb.classes_,\n",
    "                                  index=long_event.index).add_prefix('var_'))"
   ]
  },
  {
   "cell_type": "code",
   "execution_count": 293,
   "metadata": {},
   "outputs": [
    {
     "data": {
      "text/html": [
       "<div>\n",
       "<style scoped>\n",
       "    .dataframe tbody tr th:only-of-type {\n",
       "        vertical-align: middle;\n",
       "    }\n",
       "\n",
       "    .dataframe tbody tr th {\n",
       "        vertical-align: top;\n",
       "    }\n",
       "\n",
       "    .dataframe thead th {\n",
       "        text-align: right;\n",
       "    }\n",
       "</style>\n",
       "<table border=\"1\" class=\"dataframe\">\n",
       "  <thead>\n",
       "    <tr style=\"text-align: right;\">\n",
       "      <th></th>\n",
       "      <th>PID</th>\n",
       "      <th>event_day</th>\n",
       "      <th>target</th>\n",
       "      <th>var_0</th>\n",
       "      <th>var_1</th>\n",
       "      <th>var_2</th>\n",
       "      <th>var_3</th>\n",
       "      <th>var_4</th>\n",
       "      <th>var_5</th>\n",
       "      <th>var_6</th>\n",
       "      <th>...</th>\n",
       "      <th>var_611</th>\n",
       "      <th>var_612</th>\n",
       "      <th>var_613</th>\n",
       "      <th>var_615</th>\n",
       "      <th>var_616</th>\n",
       "      <th>var_617</th>\n",
       "      <th>var_618</th>\n",
       "      <th>var_619</th>\n",
       "      <th>var_620</th>\n",
       "      <th>var_621</th>\n",
       "    </tr>\n",
       "  </thead>\n",
       "  <tbody>\n",
       "    <tr>\n",
       "      <td>0</td>\n",
       "      <td>0277965</td>\n",
       "      <td>0</td>\n",
       "      <td>0</td>\n",
       "      <td>0</td>\n",
       "      <td>0</td>\n",
       "      <td>0</td>\n",
       "      <td>0</td>\n",
       "      <td>1</td>\n",
       "      <td>0</td>\n",
       "      <td>0</td>\n",
       "      <td>...</td>\n",
       "      <td>0</td>\n",
       "      <td>0</td>\n",
       "      <td>0</td>\n",
       "      <td>0</td>\n",
       "      <td>0</td>\n",
       "      <td>0</td>\n",
       "      <td>0</td>\n",
       "      <td>0</td>\n",
       "      <td>0</td>\n",
       "      <td>0</td>\n",
       "    </tr>\n",
       "    <tr>\n",
       "      <td>1</td>\n",
       "      <td>0277965</td>\n",
       "      <td>3</td>\n",
       "      <td>0</td>\n",
       "      <td>0</td>\n",
       "      <td>0</td>\n",
       "      <td>0</td>\n",
       "      <td>0</td>\n",
       "      <td>0</td>\n",
       "      <td>0</td>\n",
       "      <td>0</td>\n",
       "      <td>...</td>\n",
       "      <td>0</td>\n",
       "      <td>0</td>\n",
       "      <td>0</td>\n",
       "      <td>0</td>\n",
       "      <td>0</td>\n",
       "      <td>0</td>\n",
       "      <td>0</td>\n",
       "      <td>0</td>\n",
       "      <td>0</td>\n",
       "      <td>0</td>\n",
       "    </tr>\n",
       "    <tr>\n",
       "      <td>2</td>\n",
       "      <td>0277965</td>\n",
       "      <td>4</td>\n",
       "      <td>0</td>\n",
       "      <td>0</td>\n",
       "      <td>0</td>\n",
       "      <td>0</td>\n",
       "      <td>0</td>\n",
       "      <td>0</td>\n",
       "      <td>0</td>\n",
       "      <td>0</td>\n",
       "      <td>...</td>\n",
       "      <td>0</td>\n",
       "      <td>0</td>\n",
       "      <td>0</td>\n",
       "      <td>0</td>\n",
       "      <td>0</td>\n",
       "      <td>0</td>\n",
       "      <td>0</td>\n",
       "      <td>0</td>\n",
       "      <td>0</td>\n",
       "      <td>0</td>\n",
       "    </tr>\n",
       "    <tr>\n",
       "      <td>3</td>\n",
       "      <td>0277965</td>\n",
       "      <td>22</td>\n",
       "      <td>0</td>\n",
       "      <td>0</td>\n",
       "      <td>0</td>\n",
       "      <td>0</td>\n",
       "      <td>0</td>\n",
       "      <td>0</td>\n",
       "      <td>0</td>\n",
       "      <td>0</td>\n",
       "      <td>...</td>\n",
       "      <td>0</td>\n",
       "      <td>0</td>\n",
       "      <td>0</td>\n",
       "      <td>0</td>\n",
       "      <td>0</td>\n",
       "      <td>0</td>\n",
       "      <td>0</td>\n",
       "      <td>0</td>\n",
       "      <td>0</td>\n",
       "      <td>0</td>\n",
       "    </tr>\n",
       "    <tr>\n",
       "      <td>4</td>\n",
       "      <td>0277965</td>\n",
       "      <td>78</td>\n",
       "      <td>0</td>\n",
       "      <td>0</td>\n",
       "      <td>0</td>\n",
       "      <td>0</td>\n",
       "      <td>0</td>\n",
       "      <td>0</td>\n",
       "      <td>0</td>\n",
       "      <td>0</td>\n",
       "      <td>...</td>\n",
       "      <td>0</td>\n",
       "      <td>0</td>\n",
       "      <td>0</td>\n",
       "      <td>0</td>\n",
       "      <td>0</td>\n",
       "      <td>0</td>\n",
       "      <td>0</td>\n",
       "      <td>0</td>\n",
       "      <td>0</td>\n",
       "      <td>0</td>\n",
       "    </tr>\n",
       "  </tbody>\n",
       "</table>\n",
       "<p>5 rows × 194 columns</p>\n",
       "</div>"
      ],
      "text/plain": [
       "       PID  event_day  target  var_0  var_1  var_2  var_3  var_4  var_5  \\\n",
       "0  0277965          0       0      0      0      0      0      1      0   \n",
       "1  0277965          3       0      0      0      0      0      0      0   \n",
       "2  0277965          4       0      0      0      0      0      0      0   \n",
       "3  0277965         22       0      0      0      0      0      0      0   \n",
       "4  0277965         78       0      0      0      0      0      0      0   \n",
       "\n",
       "   var_6  ...  var_611  var_612  var_613  var_615  var_616  var_617  var_618  \\\n",
       "0      0  ...        0        0        0        0        0        0        0   \n",
       "1      0  ...        0        0        0        0        0        0        0   \n",
       "2      0  ...        0        0        0        0        0        0        0   \n",
       "3      0  ...        0        0        0        0        0        0        0   \n",
       "4      0  ...        0        0        0        0        0        0        0   \n",
       "\n",
       "   var_619  var_620  var_621  \n",
       "0        0        0        0  \n",
       "1        0        0        0  \n",
       "2        0        0        0  \n",
       "3        0        0        0  \n",
       "4        0        0        0  \n",
       "\n",
       "[5 rows x 194 columns]"
      ]
     },
     "execution_count": 293,
     "metadata": {},
     "output_type": "execute_result"
    }
   ],
   "source": [
    "df.head()"
   ]
  },
  {
   "cell_type": "markdown",
   "metadata": {},
   "source": [
    "## Aggregated data\n",
    "\n",
    "By PID:\n",
    "\n",
    "- Sum all the features\n",
    "- Take the event day\n",
    "- Target is 1 if there is ever a relapse"
   ]
  },
  {
   "cell_type": "code",
   "execution_count": 294,
   "metadata": {},
   "outputs": [],
   "source": [
    "feature_agg = df.groupby('PID').sum().reset_index().drop(['event_day', 'target'], axis=1)\n",
    "target_agg = df.groupby('PID')['target'].max().reset_index()\n",
    "day_agg = df.groupby('PID')['event_day'].mean().reset_index()\n",
    "\n",
    "df_agg = pd.merge(day_agg, target_agg, on='PID', how='inner')\n",
    "df_agg = pd.merge(df_agg, feature_agg, on='PID', how='inner')\n"
   ]
  },
  {
   "cell_type": "code",
   "execution_count": 295,
   "metadata": {},
   "outputs": [
    {
     "data": {
      "text/plain": [
       "(235, 194)"
      ]
     },
     "execution_count": 295,
     "metadata": {},
     "output_type": "execute_result"
    }
   ],
   "source": [
    "df_agg.shape"
   ]
  },
  {
   "cell_type": "code",
   "execution_count": 296,
   "metadata": {},
   "outputs": [
    {
     "name": "stdout",
     "output_type": "stream",
     "text": [
      "Number of unique patients\n"
     ]
    },
    {
     "data": {
      "text/plain": [
       "235"
      ]
     },
     "execution_count": 296,
     "metadata": {},
     "output_type": "execute_result"
    }
   ],
   "source": [
    "print('Number of unique patients')\n",
    "df_agg.PID.nunique()"
   ]
  },
  {
   "cell_type": "code",
   "execution_count": 297,
   "metadata": {},
   "outputs": [
    {
     "name": "stdout",
     "output_type": "stream",
     "text": [
      "Count of relapse vs. no-relapse\n"
     ]
    },
    {
     "data": {
      "text/plain": [
       "0    163\n",
       "1     72\n",
       "Name: target, dtype: int64"
      ]
     },
     "execution_count": 297,
     "metadata": {},
     "output_type": "execute_result"
    }
   ],
   "source": [
    "print('Count of relapse vs. no-relapse')\n",
    "df_agg.target.value_counts()"
   ]
  },
  {
   "cell_type": "markdown",
   "metadata": {},
   "source": [
    "## Boosting"
   ]
  },
  {
   "cell_type": "code",
   "execution_count": 298,
   "metadata": {},
   "outputs": [],
   "source": [
    "# import packages\n",
    "from sklearn.ensemble import RandomForestClassifier, GradientBoostingClassifier, AdaBoostClassifier\n",
    "from sklearn.metrics import f1_score, recall_score, confusion_matrix, precision_score\n",
    "from sklearn.model_selection import train_test_split\n",
    "\n",
    "rand_seed = 123456"
   ]
  },
  {
   "cell_type": "code",
   "execution_count": 299,
   "metadata": {},
   "outputs": [
    {
     "data": {
      "text/html": [
       "<div>\n",
       "<style scoped>\n",
       "    .dataframe tbody tr th:only-of-type {\n",
       "        vertical-align: middle;\n",
       "    }\n",
       "\n",
       "    .dataframe tbody tr th {\n",
       "        vertical-align: top;\n",
       "    }\n",
       "\n",
       "    .dataframe thead th {\n",
       "        text-align: right;\n",
       "    }\n",
       "</style>\n",
       "<table border=\"1\" class=\"dataframe\">\n",
       "  <thead>\n",
       "    <tr style=\"text-align: right;\">\n",
       "      <th></th>\n",
       "      <th>PID</th>\n",
       "      <th>event_day</th>\n",
       "      <th>target</th>\n",
       "      <th>var_0</th>\n",
       "      <th>var_1</th>\n",
       "      <th>var_2</th>\n",
       "      <th>var_3</th>\n",
       "      <th>var_4</th>\n",
       "      <th>var_5</th>\n",
       "      <th>var_6</th>\n",
       "      <th>...</th>\n",
       "      <th>var_611</th>\n",
       "      <th>var_612</th>\n",
       "      <th>var_613</th>\n",
       "      <th>var_615</th>\n",
       "      <th>var_616</th>\n",
       "      <th>var_617</th>\n",
       "      <th>var_618</th>\n",
       "      <th>var_619</th>\n",
       "      <th>var_620</th>\n",
       "      <th>var_621</th>\n",
       "    </tr>\n",
       "  </thead>\n",
       "  <tbody>\n",
       "    <tr>\n",
       "      <td>0</td>\n",
       "      <td>0277965</td>\n",
       "      <td>632.088235</td>\n",
       "      <td>1</td>\n",
       "      <td>6</td>\n",
       "      <td>0</td>\n",
       "      <td>0</td>\n",
       "      <td>1</td>\n",
       "      <td>3</td>\n",
       "      <td>0</td>\n",
       "      <td>0</td>\n",
       "      <td>...</td>\n",
       "      <td>0</td>\n",
       "      <td>0</td>\n",
       "      <td>0</td>\n",
       "      <td>0</td>\n",
       "      <td>0</td>\n",
       "      <td>3</td>\n",
       "      <td>3</td>\n",
       "      <td>0</td>\n",
       "      <td>0</td>\n",
       "      <td>6</td>\n",
       "    </tr>\n",
       "    <tr>\n",
       "      <td>1</td>\n",
       "      <td>0742011</td>\n",
       "      <td>259.244898</td>\n",
       "      <td>0</td>\n",
       "      <td>18</td>\n",
       "      <td>0</td>\n",
       "      <td>0</td>\n",
       "      <td>14</td>\n",
       "      <td>0</td>\n",
       "      <td>6</td>\n",
       "      <td>0</td>\n",
       "      <td>...</td>\n",
       "      <td>0</td>\n",
       "      <td>0</td>\n",
       "      <td>0</td>\n",
       "      <td>0</td>\n",
       "      <td>8</td>\n",
       "      <td>31</td>\n",
       "      <td>4</td>\n",
       "      <td>1</td>\n",
       "      <td>0</td>\n",
       "      <td>44</td>\n",
       "    </tr>\n",
       "    <tr>\n",
       "      <td>2</td>\n",
       "      <td>0867591</td>\n",
       "      <td>182.363636</td>\n",
       "      <td>0</td>\n",
       "      <td>2</td>\n",
       "      <td>0</td>\n",
       "      <td>1</td>\n",
       "      <td>3</td>\n",
       "      <td>0</td>\n",
       "      <td>2</td>\n",
       "      <td>0</td>\n",
       "      <td>...</td>\n",
       "      <td>0</td>\n",
       "      <td>0</td>\n",
       "      <td>0</td>\n",
       "      <td>1</td>\n",
       "      <td>1</td>\n",
       "      <td>5</td>\n",
       "      <td>0</td>\n",
       "      <td>0</td>\n",
       "      <td>0</td>\n",
       "      <td>7</td>\n",
       "    </tr>\n",
       "    <tr>\n",
       "      <td>3</td>\n",
       "      <td>2015958</td>\n",
       "      <td>488.615385</td>\n",
       "      <td>0</td>\n",
       "      <td>0</td>\n",
       "      <td>1</td>\n",
       "      <td>0</td>\n",
       "      <td>2</td>\n",
       "      <td>2</td>\n",
       "      <td>0</td>\n",
       "      <td>0</td>\n",
       "      <td>...</td>\n",
       "      <td>0</td>\n",
       "      <td>0</td>\n",
       "      <td>0</td>\n",
       "      <td>0</td>\n",
       "      <td>0</td>\n",
       "      <td>2</td>\n",
       "      <td>2</td>\n",
       "      <td>0</td>\n",
       "      <td>0</td>\n",
       "      <td>4</td>\n",
       "    </tr>\n",
       "    <tr>\n",
       "      <td>4</td>\n",
       "      <td>2055759</td>\n",
       "      <td>134.769231</td>\n",
       "      <td>0</td>\n",
       "      <td>2</td>\n",
       "      <td>1</td>\n",
       "      <td>0</td>\n",
       "      <td>0</td>\n",
       "      <td>0</td>\n",
       "      <td>0</td>\n",
       "      <td>2</td>\n",
       "      <td>...</td>\n",
       "      <td>0</td>\n",
       "      <td>0</td>\n",
       "      <td>0</td>\n",
       "      <td>0</td>\n",
       "      <td>0</td>\n",
       "      <td>6</td>\n",
       "      <td>0</td>\n",
       "      <td>0</td>\n",
       "      <td>0</td>\n",
       "      <td>6</td>\n",
       "    </tr>\n",
       "  </tbody>\n",
       "</table>\n",
       "<p>5 rows × 194 columns</p>\n",
       "</div>"
      ],
      "text/plain": [
       "       PID   event_day  target  var_0  var_1  var_2  var_3  var_4  var_5  \\\n",
       "0  0277965  632.088235       1      6      0      0      1      3      0   \n",
       "1  0742011  259.244898       0     18      0      0     14      0      6   \n",
       "2  0867591  182.363636       0      2      0      1      3      0      2   \n",
       "3  2015958  488.615385       0      0      1      0      2      2      0   \n",
       "4  2055759  134.769231       0      2      1      0      0      0      0   \n",
       "\n",
       "   var_6  ...  var_611  var_612  var_613  var_615  var_616  var_617  var_618  \\\n",
       "0      0  ...        0        0        0        0        0        3        3   \n",
       "1      0  ...        0        0        0        0        8       31        4   \n",
       "2      0  ...        0        0        0        1        1        5        0   \n",
       "3      0  ...        0        0        0        0        0        2        2   \n",
       "4      2  ...        0        0        0        0        0        6        0   \n",
       "\n",
       "   var_619  var_620  var_621  \n",
       "0        0        0        6  \n",
       "1        1        0       44  \n",
       "2        0        0        7  \n",
       "3        0        0        4  \n",
       "4        0        0        6  \n",
       "\n",
       "[5 rows x 194 columns]"
      ]
     },
     "execution_count": 299,
     "metadata": {},
     "output_type": "execute_result"
    }
   ],
   "source": [
    "df_agg.head()"
   ]
  },
  {
   "cell_type": "markdown",
   "metadata": {},
   "source": [
    "## Gradient Boosting Aggregated Dataset"
   ]
  },
  {
   "cell_type": "code",
   "execution_count": 300,
   "metadata": {},
   "outputs": [],
   "source": [
    "X = df_agg.iloc[:, 3:] # pd.concat([df_agg.event_day, df_agg.iloc[:, 3:]], axis=1)\n",
    "y = df_agg.target\n",
    "\n",
    "X_train, X_test, y_train, y_test = train_test_split(X, y, test_size = .25, random_state = rand_seed)"
   ]
  },
  {
   "cell_type": "code",
   "execution_count": 301,
   "metadata": {},
   "outputs": [
    {
     "data": {
      "text/plain": [
       "0    125\n",
       "1     51\n",
       "Name: target, dtype: int64"
      ]
     },
     "execution_count": 301,
     "metadata": {},
     "output_type": "execute_result"
    }
   ],
   "source": [
    "y_train.value_counts()"
   ]
  },
  {
   "cell_type": "code",
   "execution_count": 302,
   "metadata": {},
   "outputs": [
    {
     "data": {
      "text/plain": [
       "0    38\n",
       "1    21\n",
       "Name: target, dtype: int64"
      ]
     },
     "execution_count": 302,
     "metadata": {},
     "output_type": "execute_result"
    }
   ],
   "source": [
    "y_test.value_counts()"
   ]
  },
  {
   "cell_type": "code",
   "execution_count": 303,
   "metadata": {},
   "outputs": [],
   "source": [
    "gb = GradientBoostingClassifier(learning_rate=0.05, n_estimators=400, random_state=rand_seed)\n",
    "#gb = XGBClassifier(learning_rate=0.2, n_estimators=500)\n",
    "gb.fit(X_train, y_train)\n",
    "train_pred = gb.predict(X_train)\n",
    "y_score = gb.predict(X_test)"
   ]
  },
  {
   "cell_type": "code",
   "execution_count": 304,
   "metadata": {},
   "outputs": [
    {
     "name": "stdout",
     "output_type": "stream",
     "text": [
      "F1 score for train set:  1.0\n",
      "F1 score for test set:  0.36363636363636365\n"
     ]
    }
   ],
   "source": [
    "print('F1 score for train set: ', f1_score(y_train, train_pred))\n",
    "print('F1 score for test set: ', f1_score(y_test, y_score))"
   ]
  },
  {
   "cell_type": "code",
   "execution_count": 305,
   "metadata": {},
   "outputs": [
    {
     "name": "stdout",
     "output_type": "stream",
     "text": [
      "ACC score for train set:  1.0\n",
      "ACC score for test set:  0.6440677966101694\n"
     ]
    }
   ],
   "source": [
    "from sklearn.metrics import accuracy_score\n",
    "\n",
    "print('ACC score for train set: ', accuracy_score(y_train, train_pred))\n",
    "print('ACC score for test set: ', accuracy_score(y_test, y_score))"
   ]
  },
  {
   "cell_type": "code",
   "execution_count": 306,
   "metadata": {},
   "outputs": [
    {
     "name": "stderr",
     "output_type": "stream",
     "text": [
      "/Library/Frameworks/Python.framework/Versions/3.7/lib/python3.7/site-packages/sklearn/model_selection/_search.py:814: DeprecationWarning: The default of the `iid` parameter will change from True to False in version 0.22 and will be removed in 0.24. This will change numeric results when test-set sizes are unequal.\n",
      "  DeprecationWarning)\n"
     ]
    },
    {
     "name": "stdout",
     "output_type": "stream",
     "text": [
      "Best: 0.316041 using {'learning_rate': 0.06, 'n_estimators': 400}\n",
      "0.046336 (0.090276) with: {'learning_rate': 0.05, 'n_estimators': 25}\n",
      "0.064492 (0.132041) with: {'learning_rate': 0.05, 'n_estimators': 50}\n",
      "0.107491 (0.158896) with: {'learning_rate': 0.05, 'n_estimators': 100}\n",
      "0.187271 (0.129134) with: {'learning_rate': 0.05, 'n_estimators': 200}\n",
      "0.250891 (0.166636) with: {'learning_rate': 0.05, 'n_estimators': 300}\n",
      "0.311709 (0.165008) with: {'learning_rate': 0.05, 'n_estimators': 400}\n",
      "0.295944 (0.165761) with: {'learning_rate': 0.05, 'n_estimators': 500}\n",
      "0.069031 (0.143741) with: {'learning_rate': 0.06, 'n_estimators': 25}\n",
      "0.096003 (0.155009) with: {'learning_rate': 0.06, 'n_estimators': 50}\n",
      "0.177992 (0.145402) with: {'learning_rate': 0.06, 'n_estimators': 100}\n",
      "0.231648 (0.178044) with: {'learning_rate': 0.06, 'n_estimators': 200}\n",
      "0.290485 (0.146544) with: {'learning_rate': 0.06, 'n_estimators': 300}\n",
      "0.316041 (0.133260) with: {'learning_rate': 0.06, 'n_estimators': 400}\n",
      "0.265314 (0.155934) with: {'learning_rate': 0.06, 'n_estimators': 500}\n",
      "0.094748 (0.154483) with: {'learning_rate': 0.1, 'n_estimators': 25}\n",
      "0.160408 (0.137964) with: {'learning_rate': 0.1, 'n_estimators': 50}\n",
      "0.164346 (0.171301) with: {'learning_rate': 0.1, 'n_estimators': 100}\n",
      "0.289216 (0.181055) with: {'learning_rate': 0.1, 'n_estimators': 200}\n",
      "0.243273 (0.145219) with: {'learning_rate': 0.1, 'n_estimators': 300}\n",
      "0.282661 (0.178989) with: {'learning_rate': 0.1, 'n_estimators': 400}\n",
      "0.279172 (0.160738) with: {'learning_rate': 0.1, 'n_estimators': 500}\n",
      "0.151896 (0.140826) with: {'learning_rate': 0.2, 'n_estimators': 25}\n",
      "0.246052 (0.165291) with: {'learning_rate': 0.2, 'n_estimators': 50}\n",
      "0.201632 (0.148670) with: {'learning_rate': 0.2, 'n_estimators': 100}\n",
      "0.238876 (0.169658) with: {'learning_rate': 0.2, 'n_estimators': 200}\n",
      "0.241432 (0.143946) with: {'learning_rate': 0.2, 'n_estimators': 300}\n",
      "0.259510 (0.139745) with: {'learning_rate': 0.2, 'n_estimators': 400}\n",
      "0.285892 (0.133921) with: {'learning_rate': 0.2, 'n_estimators': 500}\n",
      "0.197519 (0.127575) with: {'learning_rate': 0.3, 'n_estimators': 25}\n",
      "0.205311 (0.170118) with: {'learning_rate': 0.3, 'n_estimators': 50}\n",
      "0.285612 (0.203242) with: {'learning_rate': 0.3, 'n_estimators': 100}\n",
      "0.255480 (0.127531) with: {'learning_rate': 0.3, 'n_estimators': 200}\n",
      "0.218100 (0.138026) with: {'learning_rate': 0.3, 'n_estimators': 300}\n",
      "0.243276 (0.148678) with: {'learning_rate': 0.3, 'n_estimators': 400}\n",
      "0.239219 (0.175722) with: {'learning_rate': 0.3, 'n_estimators': 500}\n"
     ]
    },
    {
     "data": {
      "image/png": "[encoded data removed]",
      "text/plain": [
       "<Figure size 432x288 with 1 Axes>"
      ]
     },
     "metadata": {
      "needs_background": "light"
     },
     "output_type": "display_data"
    }
   ],
   "source": [
    "#from xgboost import XGBClassifier\n",
    "from sklearn.model_selection import GridSearchCV\n",
    "from sklearn.model_selection import StratifiedKFold\n",
    "import numpy\n",
    "from matplotlib import pyplot\n",
    "\n",
    "# grid search\n",
    "model = GradientBoostingClassifier()\n",
    "n_estimators = [25, 50, 100, 200, 300, 400, 500]\n",
    "learning_rate = [0.05, 0.06, 0.1, 0.2, 0.3]\n",
    "param_grid = dict(learning_rate=learning_rate, n_estimators=n_estimators)\n",
    "kfold = StratifiedKFold(n_splits=10, shuffle=True, random_state=7)\n",
    "grid_search = GridSearchCV(model, param_grid, scoring=\"f1\", n_jobs=-1, cv=kfold)\n",
    "grid_result = grid_search.fit(X, y)\n",
    "# summarize results\n",
    "print(\"Best: %f using %s\" % (grid_result.best_score_, grid_result.best_params_))\n",
    "means = grid_result.cv_results_['mean_test_score']\n",
    "stds = grid_result.cv_results_['std_test_score']\n",
    "params = grid_result.cv_results_['params']\n",
    "for mean, stdev, param in zip(means, stds, params):\n",
    "\tprint(\"%f (%f) with: %r\" % (mean, stdev, param))\n",
    "# plot results\n",
    "scores = numpy.array(means).reshape(len(learning_rate), len(n_estimators))\n",
    "for i, value in enumerate(learning_rate):\n",
    "    pyplot.plot(n_estimators, scores[i], label='learning_rate: ' + str(value))\n",
    "pyplot.legend()\n",
    "pyplot.xlabel('n_estimators')\n",
    "pyplot.ylabel('F1 Score')\n",
    "pyplot.savefig('n_estimators_vs_learning_rate.png')"
   ]
  },
  {
   "cell_type": "code",
   "execution_count": 307,
   "metadata": {},
   "outputs": [
    {
     "name": "stdout",
     "output_type": "stream",
     "text": [
      "Confusion matrix for train set: \n"
     ]
    },
    {
     "data": {
      "text/plain": [
       "array([[125,   0],\n",
       "       [  0,  51]])"
      ]
     },
     "execution_count": 307,
     "metadata": {},
     "output_type": "execute_result"
    }
   ],
   "source": [
    "print('Confusion matrix for train set: ')\n",
    "confusion_matrix(y_train, train_pred)"
   ]
  },
  {
   "cell_type": "code",
   "execution_count": 308,
   "metadata": {},
   "outputs": [
    {
     "name": "stdout",
     "output_type": "stream",
     "text": [
      "Confusion matrix for train set: \n"
     ]
    },
    {
     "data": {
      "text/plain": [
       "array([[32,  6],\n",
       "       [15,  6]])"
      ]
     },
     "execution_count": 308,
     "metadata": {},
     "output_type": "execute_result"
    }
   ],
   "source": [
    "print('Confusion matrix for train set: ')\n",
    "confusion_matrix(y_test, y_score)"
   ]
  },
  {
   "cell_type": "code",
   "execution_count": 309,
   "metadata": {},
   "outputs": [
    {
     "name": "stdout",
     "output_type": "stream",
     "text": [
      "Average precision-recall score (PR-AUC): 0.40\n"
     ]
    }
   ],
   "source": [
    "average_precision = average_precision_score(y_test, y_score)\n",
    "\n",
    "print('Average precision-recall score (PR-AUC): {0:0.2f}'.format(\n",
    "      average_precision))"
   ]
  },
  {
   "cell_type": "code",
   "execution_count": 310,
   "metadata": {},
   "outputs": [
    {
     "data": {
      "text/plain": [
       "Text(0.5, 1.0, '2-class Precision-Recall curve: PR-AUC=0.40')"
      ]
     },
     "execution_count": 310,
     "metadata": {},
     "output_type": "execute_result"
    },
    {
     "data": {
      "image/png": "[encoded data removed]",
      "text/plain": [
       "<Figure size 432x288 with 1 Axes>"
      ]
     },
     "metadata": {
      "needs_background": "light"
     },
     "output_type": "display_data"
    }
   ],
   "source": [
    "from sklearn.metrics import precision_recall_curve\n",
    "import matplotlib.pyplot as plt\n",
    "from inspect import signature\n",
    "\n",
    "precision, recall, _ = precision_recall_curve(y_test, y_score)\n",
    "\n",
    "# In matplotlib < 1.5, plt.fill_between does not have a 'step' argument\n",
    "step_kwargs = ({'step': 'post'}\n",
    "               if 'step' in signature(plt.fill_between).parameters\n",
    "               else {})\n",
    "plt.step(recall, precision, color='b', alpha=0.2,\n",
    "         where='post')\n",
    "plt.fill_between(recall, precision, alpha=0.2, color='b', **step_kwargs)\n",
    "\n",
    "plt.xlabel('Recall')\n",
    "plt.ylabel('Precision')\n",
    "plt.ylim([0.0, 1.05])\n",
    "plt.xlim([0.0, 1.0])\n",
    "plt.title('2-class Precision-Recall curve: PR-AUC={0:0.2f}'.format(\n",
    "          average_precision))\n"
   ]
  },
  {
   "cell_type": "code",
   "execution_count": 311,
   "metadata": {},
   "outputs": [
    {
     "data": {
      "text/plain": [
       "<matplotlib.axes._subplots.AxesSubplot at 0x1394d78d0>"
      ]
     },
     "execution_count": 311,
     "metadata": {},
     "output_type": "execute_result"
    },
    {
     "data": {
      "image/png": "[encoded data removed]",
      "text/plain": [
       "<Figure size 432x288 with 1 Axes>"
      ]
     },
     "metadata": {
      "needs_background": "light"
     },
     "output_type": "display_data"
    }
   ],
   "source": [
    "feature_importance = pd.Series(gb.feature_importances_, index=X_train.columns)\n",
    "feature_importance.nlargest(15).plot(kind='barh')"
   ]
  },
  {
   "cell_type": "code",
   "execution_count": 312,
   "metadata": {},
   "outputs": [
    {
     "data": {
      "text/plain": [
       "['w_mrd_type___2',\n",
       " 'w_treatment_induction_8',\n",
       " 'w_sub_agvh_grade_1',\n",
       " 'rx_indication_maintenance_consolidation',\n",
       " 'w_sub_agvh_grade_2',\n",
       " 'gvhd_event',\n",
       " 'pb_blasts_0',\n",
       " 'bm_blasts_1',\n",
       " 'Chemotherapy',\n",
       " 'bmblasts_known',\n",
       " 'w_treatment_targeted___19',\n",
       " 'w_treatment_induction_5',\n",
       " 'isp_event',\n",
       " 'e_response_1',\n",
       " 'w_treatment_induction_3']"
      ]
     },
     "execution_count": 312,
     "metadata": {},
     "output_type": "execute_result"
    }
   ],
   "source": [
    "feature_list = list(feature_importance.nlargest(15).index.str.slice(start=4).astype(int))\n",
    "[ddict.get(x) for x in feature_list]"
   ]
  },
  {
   "cell_type": "markdown",
   "metadata": {},
   "source": [
    "## Gradient Boosting with upsampled aggregated dataset"
   ]
  },
  {
   "cell_type": "code",
   "execution_count": 313,
   "metadata": {},
   "outputs": [
    {
     "data": {
      "text/plain": [
       "1    163\n",
       "0    163\n",
       "Name: target, dtype: int64"
      ]
     },
     "execution_count": 313,
     "metadata": {},
     "output_type": "execute_result"
    }
   ],
   "source": [
    "from sklearn.utils import resample\n",
    "relapse = df_agg[df_agg.target==1]\n",
    "no_relapse =df_agg[df_agg.target==0]\n",
    "\n",
    "relapse_upsampled = resample(relapse, replace=True, n_samples=len(no_relapse))\n",
    "upsampled = pd.concat([relapse_upsampled, no_relapse])\n",
    "upsampled.target.value_counts()"
   ]
  },
  {
   "cell_type": "code",
   "execution_count": 314,
   "metadata": {},
   "outputs": [],
   "source": [
    "X = upsampled.iloc[:, 3:] # pd.concat([upsampled.event_day, upsampled.iloc[:, 3:]], axis = 1)\n",
    "y = upsampled.target\n",
    "\n",
    "X_train, X_test, y_train, y_test = train_test_split(X, y, test_size = .25, random_state = rand_seed)"
   ]
  },
  {
   "cell_type": "code",
   "execution_count": 315,
   "metadata": {},
   "outputs": [],
   "source": [
    "gb = GradientBoostingClassifier(learning_rate=0.05, n_estimators=400, random_state=rand_seed)\n",
    "gb.fit(X_train, y_train)\n",
    "train_pred = gb.predict(X_train)\n",
    "y_score = gb.predict(X_test)"
   ]
  },
  {
   "cell_type": "code",
   "execution_count": 316,
   "metadata": {},
   "outputs": [
    {
     "name": "stdout",
     "output_type": "stream",
     "text": [
      "F1 score for train set:  1.0\n",
      "F1 score for test set:  0.7755102040816326\n"
     ]
    }
   ],
   "source": [
    "print('F1 score for train set: ', f1_score(y_train, train_pred))\n",
    "print('F1 score for test set: ', f1_score(y_test, y_score))"
   ]
  },
  {
   "cell_type": "code",
   "execution_count": 317,
   "metadata": {},
   "outputs": [
    {
     "name": "stdout",
     "output_type": "stream",
     "text": [
      "Confusion matrix for train set: \n"
     ]
    },
    {
     "data": {
      "text/plain": [
       "array([[130,   0],\n",
       "       [  0, 114]])"
      ]
     },
     "execution_count": 317,
     "metadata": {},
     "output_type": "execute_result"
    }
   ],
   "source": [
    "print('Confusion matrix for train set: ')\n",
    "confusion_matrix(y_train, train_pred)"
   ]
  },
  {
   "cell_type": "code",
   "execution_count": 318,
   "metadata": {},
   "outputs": [
    {
     "name": "stdout",
     "output_type": "stream",
     "text": [
      "Confusion matrix for train set: \n"
     ]
    },
    {
     "data": {
      "text/plain": [
       "array([[22, 11],\n",
       "       [11, 38]])"
      ]
     },
     "execution_count": 318,
     "metadata": {},
     "output_type": "execute_result"
    }
   ],
   "source": [
    "print('Confusion matrix for train set: ')\n",
    "confusion_matrix(y_test, y_score)"
   ]
  },
  {
   "cell_type": "code",
   "execution_count": 319,
   "metadata": {},
   "outputs": [
    {
     "name": "stdout",
     "output_type": "stream",
     "text": [
      "Average precision-recall score (PR-AUC): 0.74\n"
     ]
    }
   ],
   "source": [
    "average_precision = average_precision_score(y_test, y_score)\n",
    "\n",
    "print('Average precision-recall score (PR-AUC): {0:0.2f}'.format(\n",
    "      average_precision))"
   ]
  },
  {
   "cell_type": "code",
   "execution_count": 320,
   "metadata": {},
   "outputs": [
    {
     "data": {
      "text/plain": [
       "Text(0.5, 1.0, '2-class Precision-Recall curve: PR-AUC=0.74')"
      ]
     },
     "execution_count": 320,
     "metadata": {},
     "output_type": "execute_result"
    },
    {
     "data": {
      "image/png": "[encoded data removed]",
      "text/plain": [
       "<Figure size 432x288 with 1 Axes>"
      ]
     },
     "metadata": {
      "needs_background": "light"
     },
     "output_type": "display_data"
    }
   ],
   "source": [
    "from sklearn.metrics import precision_recall_curve\n",
    "import matplotlib.pyplot as plt\n",
    "from inspect import signature\n",
    "\n",
    "precision, recall, _ = precision_recall_curve(y_test, y_score)\n",
    "\n",
    "# In matplotlib < 1.5, plt.fill_between does not have a 'step' argument\n",
    "step_kwargs = ({'step': 'post'}\n",
    "               if 'step' in signature(plt.fill_between).parameters\n",
    "               else {})\n",
    "plt.step(recall, precision, color='b', alpha=0.2,\n",
    "         where='post')\n",
    "plt.fill_between(recall, precision, alpha=0.2, color='b', **step_kwargs)\n",
    "\n",
    "plt.xlabel('Recall')\n",
    "plt.ylabel('Precision')\n",
    "plt.ylim([0.0, 1.05])\n",
    "plt.xlim([0.0, 1.0])\n",
    "plt.title('2-class Precision-Recall curve: PR-AUC={0:0.2f}'.format(\n",
    "          average_precision))\n"
   ]
  },
  {
   "cell_type": "code",
   "execution_count": 321,
   "metadata": {},
   "outputs": [
    {
     "data": {
      "text/plain": [
       "<matplotlib.axes._subplots.AxesSubplot at 0x13a0f3278>"
      ]
     },
     "execution_count": 321,
     "metadata": {},
     "output_type": "execute_result"
    },
    {
     "data": {
      "image/png": "[encoded data removed]",
      "text/plain": [
       "<Figure size 432x288 with 1 Axes>"
      ]
     },
     "metadata": {
      "needs_background": "light"
     },
     "output_type": "display_data"
    }
   ],
   "source": [
    "feature_importance = pd.Series(gb.feature_importances_, index=X_train.columns)\n",
    "feature_importance.nlargest(15).plot(kind='barh')"
   ]
  },
  {
   "cell_type": "code",
   "execution_count": 322,
   "metadata": {},
   "outputs": [],
   "source": [
    "feature_list = list(feature_importance.nlargest(15).index.str.slice(start=4).astype(int))"
   ]
  },
  {
   "cell_type": "code",
   "execution_count": 323,
   "metadata": {},
   "outputs": [
    {
     "data": {
      "text/plain": [
       "['gvhd_event',\n",
       " 'e_response_2',\n",
       " 'hct1_stage___3',\n",
       " 'w_sub_agvh_grade_2',\n",
       " 'w_treatment_induction_3',\n",
       " 'w_treatment_consolidation_1',\n",
       " 'Chemotherapy',\n",
       " 'e_gvhd_1',\n",
       " 'al_origin___3',\n",
       " 'hct1_mrd___1',\n",
       " 'extramed_type___7',\n",
       " 'w_treatment_induction_7',\n",
       " 'w_treatment_targeted___19',\n",
       " 'w_relapse_cns_details___4',\n",
       " 'bm_blasts_1']"
      ]
     },
     "execution_count": 323,
     "metadata": {},
     "output_type": "execute_result"
    }
   ],
   "source": [
    "[ddict.get(x) for x in feature_list]"
   ]
  }
 ],
 "metadata": {
  "kernelspec": {
   "display_name": "Python 3",
   "language": "python",
   "name": "python3"
  },
  "language_info": {
   "codemirror_mode": {
    "name": "ipython",
    "version": 3
   },
   "file_extension": ".py",
   "mimetype": "text/x-python",
   "name": "python",
   "nbconvert_exporter": "python",
   "pygments_lexer": "ipython3",
   "version": "3.7.3"
  }
 },
 "nbformat": 4,
 "nbformat_minor": 2
}

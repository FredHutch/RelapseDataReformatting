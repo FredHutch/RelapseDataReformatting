{
 "cells": [
  {
   "cell_type": "code",
   "execution_count": 54,
   "metadata": {},
   "outputs": [],
   "source": [
    "import pandas as pd\n",
    "import seaborn as sns\n",
    "\n",
    "from sklearn.preprocessing import MultiLabelBinarizer\n",
    "from sklearn.metrics import average_precision_score\n"
   ]
  },
  {
   "cell_type": "markdown",
   "metadata": {},
   "source": [
    "## Data Manipulation"
   ]
  },
  {
   "cell_type": "code",
   "execution_count": 55,
   "metadata": {},
   "outputs": [],
   "source": [
    "raw_df = pd.read_pickle('../data/training_df.pkl')\n",
    "ddict = pd.read_pickle('../data_dict/data_dictionary.pkl')"
   ]
  },
  {
   "cell_type": "code",
   "execution_count": 56,
   "metadata": {},
   "outputs": [
    {
     "data": {
      "text/html": [
       "<div>\n",
       "<style scoped>\n",
       "    .dataframe tbody tr th:only-of-type {\n",
       "        vertical-align: middle;\n",
       "    }\n",
       "\n",
       "    .dataframe tbody tr th {\n",
       "        vertical-align: top;\n",
       "    }\n",
       "\n",
       "    .dataframe thead th {\n",
       "        text-align: right;\n",
       "    }\n",
       "</style>\n",
       "<table border=\"1\" class=\"dataframe\">\n",
       "  <thead>\n",
       "    <tr style=\"text-align: right;\">\n",
       "      <th></th>\n",
       "      <th>PID</th>\n",
       "      <th>numerics</th>\n",
       "      <th>codes</th>\n",
       "      <th>to_event</th>\n",
       "      <th>target</th>\n",
       "    </tr>\n",
       "  </thead>\n",
       "  <tbody>\n",
       "    <tr>\n",
       "      <td>0</td>\n",
       "      <td>0277965</td>\n",
       "      <td>[[], [], [], [], [], [], [], [], []]</td>\n",
       "      <td>[[33, 4, 69, 447, 13, 463, 48, 465, 117, 507, ...</td>\n",
       "      <td>[0, 3, 4, 22, 78, 83, 364, 1469, 1479]</td>\n",
       "      <td>1</td>\n",
       "    </tr>\n",
       "    <tr>\n",
       "      <td>1</td>\n",
       "      <td>0277965</td>\n",
       "      <td>[[], [], [], [], [], [], [], [], [], [], []]</td>\n",
       "      <td>[[33, 4, 69, 447, 13, 463, 48, 465, 117, 507, ...</td>\n",
       "      <td>[0, 3, 4, 22, 78, 83, 364, 1469, 1479, 1546, 1...</td>\n",
       "      <td>1</td>\n",
       "    </tr>\n",
       "    <tr>\n",
       "      <td>2</td>\n",
       "      <td>0277965</td>\n",
       "      <td>[[], [], [], [], [], [], [], [], [], [], [], [...</td>\n",
       "      <td>[[33, 4, 69, 447, 13, 463, 48, 465, 117, 507, ...</td>\n",
       "      <td>[0, 3, 4, 22, 78, 83, 364, 1469, 1479, 1546, 1...</td>\n",
       "      <td>1</td>\n",
       "    </tr>\n",
       "    <tr>\n",
       "      <td>3</td>\n",
       "      <td>0742011</td>\n",
       "      <td>[[], [], [], [], [], [], [], []]</td>\n",
       "      <td>[[32, 68, 5, 462, 15, 48, 507, 117, 119, 56, 2...</td>\n",
       "      <td>[0, 18, 62, 67, 113, 180, 259, 260]</td>\n",
       "      <td>1</td>\n",
       "    </tr>\n",
       "    <tr>\n",
       "      <td>4</td>\n",
       "      <td>0742011</td>\n",
       "      <td>[[], [], [], [], [], [], [], [], [], [], [], []]</td>\n",
       "      <td>[[32, 68, 5, 462, 15, 48, 507, 117, 119, 56, 2...</td>\n",
       "      <td>[0, 18, 62, 67, 113, 180, 259, 260, 278, 293, ...</td>\n",
       "      <td>1</td>\n",
       "    </tr>\n",
       "  </tbody>\n",
       "</table>\n",
       "</div>"
      ],
      "text/plain": [
       "       PID                                           numerics  \\\n",
       "0  0277965               [[], [], [], [], [], [], [], [], []]   \n",
       "1  0277965       [[], [], [], [], [], [], [], [], [], [], []]   \n",
       "2  0277965  [[], [], [], [], [], [], [], [], [], [], [], [...   \n",
       "3  0742011                   [[], [], [], [], [], [], [], []]   \n",
       "4  0742011   [[], [], [], [], [], [], [], [], [], [], [], []]   \n",
       "\n",
       "                                               codes  \\\n",
       "0  [[33, 4, 69, 447, 13, 463, 48, 465, 117, 507, ...   \n",
       "1  [[33, 4, 69, 447, 13, 463, 48, 465, 117, 507, ...   \n",
       "2  [[33, 4, 69, 447, 13, 463, 48, 465, 117, 507, ...   \n",
       "3  [[32, 68, 5, 462, 15, 48, 507, 117, 119, 56, 2...   \n",
       "4  [[32, 68, 5, 462, 15, 48, 507, 117, 119, 56, 2...   \n",
       "\n",
       "                                            to_event  target  \n",
       "0             [0, 3, 4, 22, 78, 83, 364, 1469, 1479]       1  \n",
       "1  [0, 3, 4, 22, 78, 83, 364, 1469, 1479, 1546, 1...       1  \n",
       "2  [0, 3, 4, 22, 78, 83, 364, 1469, 1479, 1546, 1...       1  \n",
       "3                [0, 18, 62, 67, 113, 180, 259, 260]       1  \n",
       "4  [0, 18, 62, 67, 113, 180, 259, 260, 278, 293, ...       1  "
      ]
     },
     "execution_count": 56,
     "metadata": {},
     "output_type": "execute_result"
    }
   ],
   "source": [
    "raw_df.head()"
   ]
  },
  {
   "cell_type": "code",
   "execution_count": 57,
   "metadata": {},
   "outputs": [
    {
     "data": {
      "text/plain": [
       "1    428\n",
       "0    165\n",
       "Name: target, dtype: int64"
      ]
     },
     "execution_count": 57,
     "metadata": {},
     "output_type": "execute_result"
    }
   ],
   "source": [
    "raw_df.target.value_counts()"
   ]
  },
  {
   "cell_type": "code",
   "execution_count": 58,
   "metadata": {},
   "outputs": [],
   "source": [
    "event_days = []\n",
    "features = []\n",
    "ids = []\n",
    "targets = []\n",
    "\n",
    "for _, row in raw_df.iterrows():\n",
    "    feature = row.codes\n",
    "    pid = row.PID\n",
    "    target = row.target\n",
    "    \n",
    "    for day in range(len(row.to_event)):\n",
    "        event_days.append(row.to_event[day])\n",
    "        features.append(feature[day])\n",
    "        ids.append(pid)\n",
    "        targets.append(target)\n",
    "\n",
    "long_event = pd.DataFrame({\n",
    "    'PID': ids,\n",
    "    'feature': features,\n",
    "    'event_day': event_days,\n",
    "    'target': targets\n",
    "})        \n",
    "        \n",
    "    "
   ]
  },
  {
   "cell_type": "code",
   "execution_count": 59,
   "metadata": {},
   "outputs": [
    {
     "data": {
      "text/html": [
       "<div>\n",
       "<style scoped>\n",
       "    .dataframe tbody tr th:only-of-type {\n",
       "        vertical-align: middle;\n",
       "    }\n",
       "\n",
       "    .dataframe tbody tr th {\n",
       "        vertical-align: top;\n",
       "    }\n",
       "\n",
       "    .dataframe thead th {\n",
       "        text-align: right;\n",
       "    }\n",
       "</style>\n",
       "<table border=\"1\" class=\"dataframe\">\n",
       "  <thead>\n",
       "    <tr style=\"text-align: right;\">\n",
       "      <th></th>\n",
       "      <th>PID</th>\n",
       "      <th>feature</th>\n",
       "      <th>event_day</th>\n",
       "      <th>target</th>\n",
       "    </tr>\n",
       "  </thead>\n",
       "  <tbody>\n",
       "    <tr>\n",
       "      <td>0</td>\n",
       "      <td>0277965</td>\n",
       "      <td>[33, 4, 69, 447, 13, 463, 48, 465, 117, 507, 5...</td>\n",
       "      <td>0</td>\n",
       "      <td>1</td>\n",
       "    </tr>\n",
       "    <tr>\n",
       "      <td>1</td>\n",
       "      <td>0277965</td>\n",
       "      <td>[25, 119]</td>\n",
       "      <td>3</td>\n",
       "      <td>1</td>\n",
       "    </tr>\n",
       "    <tr>\n",
       "      <td>2</td>\n",
       "      <td>0277965</td>\n",
       "      <td>[513]</td>\n",
       "      <td>4</td>\n",
       "      <td>1</td>\n",
       "    </tr>\n",
       "    <tr>\n",
       "      <td>3</td>\n",
       "      <td>0277965</td>\n",
       "      <td>[47, 23, 533, 119, 535, 26]</td>\n",
       "      <td>22</td>\n",
       "      <td>1</td>\n",
       "    </tr>\n",
       "    <tr>\n",
       "      <td>4</td>\n",
       "      <td>0277965</td>\n",
       "      <td>[47, 532, 23, 537, 538]</td>\n",
       "      <td>78</td>\n",
       "      <td>1</td>\n",
       "    </tr>\n",
       "  </tbody>\n",
       "</table>\n",
       "</div>"
      ],
      "text/plain": [
       "       PID                                            feature  event_day  \\\n",
       "0  0277965  [33, 4, 69, 447, 13, 463, 48, 465, 117, 507, 5...          0   \n",
       "1  0277965                                          [25, 119]          3   \n",
       "2  0277965                                              [513]          4   \n",
       "3  0277965                        [47, 23, 533, 119, 535, 26]         22   \n",
       "4  0277965                            [47, 532, 23, 537, 538]         78   \n",
       "\n",
       "   target  \n",
       "0       1  \n",
       "1       1  \n",
       "2       1  \n",
       "3       1  \n",
       "4       1  "
      ]
     },
     "execution_count": 59,
     "metadata": {},
     "output_type": "execute_result"
    }
   ],
   "source": [
    "long_event.head()"
   ]
  },
  {
   "cell_type": "code",
   "execution_count": 60,
   "metadata": {},
   "outputs": [],
   "source": [
    "mlb = MultiLabelBinarizer()\n",
    "df = long_event.join(pd.DataFrame(mlb.fit_transform(long_event.pop('feature')),\n",
    "                                  columns=mlb.classes_,\n",
    "                                  index=long_event.index).add_prefix('var_'))"
   ]
  },
  {
   "cell_type": "code",
   "execution_count": 61,
   "metadata": {},
   "outputs": [
    {
     "data": {
      "text/html": [
       "<div>\n",
       "<style scoped>\n",
       "    .dataframe tbody tr th:only-of-type {\n",
       "        vertical-align: middle;\n",
       "    }\n",
       "\n",
       "    .dataframe tbody tr th {\n",
       "        vertical-align: top;\n",
       "    }\n",
       "\n",
       "    .dataframe thead th {\n",
       "        text-align: right;\n",
       "    }\n",
       "</style>\n",
       "<table border=\"1\" class=\"dataframe\">\n",
       "  <thead>\n",
       "    <tr style=\"text-align: right;\">\n",
       "      <th></th>\n",
       "      <th>PID</th>\n",
       "      <th>event_day</th>\n",
       "      <th>target</th>\n",
       "      <th>var_0</th>\n",
       "      <th>var_1</th>\n",
       "      <th>var_2</th>\n",
       "      <th>var_3</th>\n",
       "      <th>var_4</th>\n",
       "      <th>var_5</th>\n",
       "      <th>var_6</th>\n",
       "      <th>...</th>\n",
       "      <th>var_611</th>\n",
       "      <th>var_612</th>\n",
       "      <th>var_613</th>\n",
       "      <th>var_615</th>\n",
       "      <th>var_616</th>\n",
       "      <th>var_617</th>\n",
       "      <th>var_618</th>\n",
       "      <th>var_619</th>\n",
       "      <th>var_620</th>\n",
       "      <th>var_621</th>\n",
       "    </tr>\n",
       "  </thead>\n",
       "  <tbody>\n",
       "    <tr>\n",
       "      <td>0</td>\n",
       "      <td>0277965</td>\n",
       "      <td>0</td>\n",
       "      <td>1</td>\n",
       "      <td>0</td>\n",
       "      <td>0</td>\n",
       "      <td>0</td>\n",
       "      <td>0</td>\n",
       "      <td>1</td>\n",
       "      <td>0</td>\n",
       "      <td>0</td>\n",
       "      <td>...</td>\n",
       "      <td>0</td>\n",
       "      <td>0</td>\n",
       "      <td>0</td>\n",
       "      <td>0</td>\n",
       "      <td>0</td>\n",
       "      <td>0</td>\n",
       "      <td>0</td>\n",
       "      <td>0</td>\n",
       "      <td>0</td>\n",
       "      <td>0</td>\n",
       "    </tr>\n",
       "    <tr>\n",
       "      <td>1</td>\n",
       "      <td>0277965</td>\n",
       "      <td>3</td>\n",
       "      <td>1</td>\n",
       "      <td>0</td>\n",
       "      <td>0</td>\n",
       "      <td>0</td>\n",
       "      <td>0</td>\n",
       "      <td>0</td>\n",
       "      <td>0</td>\n",
       "      <td>0</td>\n",
       "      <td>...</td>\n",
       "      <td>0</td>\n",
       "      <td>0</td>\n",
       "      <td>0</td>\n",
       "      <td>0</td>\n",
       "      <td>0</td>\n",
       "      <td>0</td>\n",
       "      <td>0</td>\n",
       "      <td>0</td>\n",
       "      <td>0</td>\n",
       "      <td>0</td>\n",
       "    </tr>\n",
       "    <tr>\n",
       "      <td>2</td>\n",
       "      <td>0277965</td>\n",
       "      <td>4</td>\n",
       "      <td>1</td>\n",
       "      <td>0</td>\n",
       "      <td>0</td>\n",
       "      <td>0</td>\n",
       "      <td>0</td>\n",
       "      <td>0</td>\n",
       "      <td>0</td>\n",
       "      <td>0</td>\n",
       "      <td>...</td>\n",
       "      <td>0</td>\n",
       "      <td>0</td>\n",
       "      <td>0</td>\n",
       "      <td>0</td>\n",
       "      <td>0</td>\n",
       "      <td>0</td>\n",
       "      <td>0</td>\n",
       "      <td>0</td>\n",
       "      <td>0</td>\n",
       "      <td>0</td>\n",
       "    </tr>\n",
       "    <tr>\n",
       "      <td>3</td>\n",
       "      <td>0277965</td>\n",
       "      <td>22</td>\n",
       "      <td>1</td>\n",
       "      <td>0</td>\n",
       "      <td>0</td>\n",
       "      <td>0</td>\n",
       "      <td>0</td>\n",
       "      <td>0</td>\n",
       "      <td>0</td>\n",
       "      <td>0</td>\n",
       "      <td>...</td>\n",
       "      <td>0</td>\n",
       "      <td>0</td>\n",
       "      <td>0</td>\n",
       "      <td>0</td>\n",
       "      <td>0</td>\n",
       "      <td>0</td>\n",
       "      <td>0</td>\n",
       "      <td>0</td>\n",
       "      <td>0</td>\n",
       "      <td>0</td>\n",
       "    </tr>\n",
       "    <tr>\n",
       "      <td>4</td>\n",
       "      <td>0277965</td>\n",
       "      <td>78</td>\n",
       "      <td>1</td>\n",
       "      <td>0</td>\n",
       "      <td>0</td>\n",
       "      <td>0</td>\n",
       "      <td>0</td>\n",
       "      <td>0</td>\n",
       "      <td>0</td>\n",
       "      <td>0</td>\n",
       "      <td>...</td>\n",
       "      <td>0</td>\n",
       "      <td>0</td>\n",
       "      <td>0</td>\n",
       "      <td>0</td>\n",
       "      <td>0</td>\n",
       "      <td>0</td>\n",
       "      <td>0</td>\n",
       "      <td>0</td>\n",
       "      <td>0</td>\n",
       "      <td>0</td>\n",
       "    </tr>\n",
       "  </tbody>\n",
       "</table>\n",
       "<p>5 rows × 224 columns</p>\n",
       "</div>"
      ],
      "text/plain": [
       "       PID  event_day  target  var_0  var_1  var_2  var_3  var_4  var_5  \\\n",
       "0  0277965          0       1      0      0      0      0      1      0   \n",
       "1  0277965          3       1      0      0      0      0      0      0   \n",
       "2  0277965          4       1      0      0      0      0      0      0   \n",
       "3  0277965         22       1      0      0      0      0      0      0   \n",
       "4  0277965         78       1      0      0      0      0      0      0   \n",
       "\n",
       "   var_6  ...  var_611  var_612  var_613  var_615  var_616  var_617  var_618  \\\n",
       "0      0  ...        0        0        0        0        0        0        0   \n",
       "1      0  ...        0        0        0        0        0        0        0   \n",
       "2      0  ...        0        0        0        0        0        0        0   \n",
       "3      0  ...        0        0        0        0        0        0        0   \n",
       "4      0  ...        0        0        0        0        0        0        0   \n",
       "\n",
       "   var_619  var_620  var_621  \n",
       "0        0        0        0  \n",
       "1        0        0        0  \n",
       "2        0        0        0  \n",
       "3        0        0        0  \n",
       "4        0        0        0  \n",
       "\n",
       "[5 rows x 224 columns]"
      ]
     },
     "execution_count": 61,
     "metadata": {},
     "output_type": "execute_result"
    }
   ],
   "source": [
    "df.head()"
   ]
  },
  {
   "cell_type": "code",
   "execution_count": 62,
   "metadata": {},
   "outputs": [],
   "source": [
    "df.to_pickle('training_df_wide.pkl')"
   ]
  },
  {
   "cell_type": "markdown",
   "metadata": {},
   "source": [
    "## Aggregated data\n",
    "\n",
    "By PID:\n",
    "\n",
    "- Sum all the features\n",
    "- Take the event day\n",
    "- Target is 1 if there is ever a relapse"
   ]
  },
  {
   "cell_type": "code",
   "execution_count": 63,
   "metadata": {},
   "outputs": [],
   "source": [
    "feature_agg = df.groupby('PID').sum().reset_index().drop(['event_day', 'target'], axis=1)\n",
    "target_agg = df.groupby('PID')['target'].max().reset_index()\n",
    "day_agg = df.groupby('PID')['event_day'].mean().reset_index()\n",
    "\n",
    "df_agg = pd.merge(day_agg, target_agg, on='PID', how='inner')\n",
    "df_agg = pd.merge(df_agg, feature_agg, on='PID', how='inner')\n"
   ]
  },
  {
   "cell_type": "code",
   "execution_count": 64,
   "metadata": {},
   "outputs": [
    {
     "data": {
      "text/plain": [
       "(235, 224)"
      ]
     },
     "execution_count": 64,
     "metadata": {},
     "output_type": "execute_result"
    }
   ],
   "source": [
    "df_agg.shape"
   ]
  },
  {
   "cell_type": "code",
   "execution_count": 65,
   "metadata": {},
   "outputs": [
    {
     "name": "stdout",
     "output_type": "stream",
     "text": [
      "Number of unique patients\n"
     ]
    },
    {
     "data": {
      "text/plain": [
       "235"
      ]
     },
     "execution_count": 65,
     "metadata": {},
     "output_type": "execute_result"
    }
   ],
   "source": [
    "print('Number of unique patients')\n",
    "df_agg.PID.nunique()"
   ]
  },
  {
   "cell_type": "code",
   "execution_count": 66,
   "metadata": {},
   "outputs": [
    {
     "name": "stdout",
     "output_type": "stream",
     "text": [
      "Count of relapse vs. no-relapse\n"
     ]
    },
    {
     "data": {
      "text/plain": [
       "1    200\n",
       "0     35\n",
       "Name: target, dtype: int64"
      ]
     },
     "execution_count": 66,
     "metadata": {},
     "output_type": "execute_result"
    }
   ],
   "source": [
    "print('Count of relapse vs. no-relapse')\n",
    "df_agg.target.value_counts()"
   ]
  },
  {
   "cell_type": "markdown",
   "metadata": {},
   "source": [
    "## Boosting"
   ]
  },
  {
   "cell_type": "code",
   "execution_count": 67,
   "metadata": {},
   "outputs": [],
   "source": [
    "# import packages\n",
    "from sklearn.ensemble import RandomForestClassifier, GradientBoostingClassifier, AdaBoostClassifier\n",
    "from sklearn.metrics import f1_score, recall_score, confusion_matrix, precision_score\n",
    "from sklearn.model_selection import train_test_split\n",
    "\n",
    "rand_seed = 123456"
   ]
  },
  {
   "cell_type": "code",
   "execution_count": 68,
   "metadata": {},
   "outputs": [
    {
     "data": {
      "text/html": [
       "<div>\n",
       "<style scoped>\n",
       "    .dataframe tbody tr th:only-of-type {\n",
       "        vertical-align: middle;\n",
       "    }\n",
       "\n",
       "    .dataframe tbody tr th {\n",
       "        vertical-align: top;\n",
       "    }\n",
       "\n",
       "    .dataframe thead th {\n",
       "        text-align: right;\n",
       "    }\n",
       "</style>\n",
       "<table border=\"1\" class=\"dataframe\">\n",
       "  <thead>\n",
       "    <tr style=\"text-align: right;\">\n",
       "      <th></th>\n",
       "      <th>PID</th>\n",
       "      <th>event_day</th>\n",
       "      <th>target</th>\n",
       "      <th>var_0</th>\n",
       "      <th>var_1</th>\n",
       "      <th>var_2</th>\n",
       "      <th>var_3</th>\n",
       "      <th>var_4</th>\n",
       "      <th>var_5</th>\n",
       "      <th>var_6</th>\n",
       "      <th>...</th>\n",
       "      <th>var_611</th>\n",
       "      <th>var_612</th>\n",
       "      <th>var_613</th>\n",
       "      <th>var_615</th>\n",
       "      <th>var_616</th>\n",
       "      <th>var_617</th>\n",
       "      <th>var_618</th>\n",
       "      <th>var_619</th>\n",
       "      <th>var_620</th>\n",
       "      <th>var_621</th>\n",
       "    </tr>\n",
       "  </thead>\n",
       "  <tbody>\n",
       "    <tr>\n",
       "      <td>0</td>\n",
       "      <td>0277965</td>\n",
       "      <td>632.088235</td>\n",
       "      <td>1</td>\n",
       "      <td>6</td>\n",
       "      <td>0</td>\n",
       "      <td>0</td>\n",
       "      <td>1</td>\n",
       "      <td>3</td>\n",
       "      <td>0</td>\n",
       "      <td>0</td>\n",
       "      <td>...</td>\n",
       "      <td>0</td>\n",
       "      <td>0</td>\n",
       "      <td>0</td>\n",
       "      <td>0</td>\n",
       "      <td>0</td>\n",
       "      <td>3</td>\n",
       "      <td>3</td>\n",
       "      <td>0</td>\n",
       "      <td>0</td>\n",
       "      <td>6</td>\n",
       "    </tr>\n",
       "    <tr>\n",
       "      <td>1</td>\n",
       "      <td>0742011</td>\n",
       "      <td>259.244898</td>\n",
       "      <td>1</td>\n",
       "      <td>18</td>\n",
       "      <td>0</td>\n",
       "      <td>0</td>\n",
       "      <td>14</td>\n",
       "      <td>0</td>\n",
       "      <td>6</td>\n",
       "      <td>0</td>\n",
       "      <td>...</td>\n",
       "      <td>0</td>\n",
       "      <td>0</td>\n",
       "      <td>0</td>\n",
       "      <td>0</td>\n",
       "      <td>8</td>\n",
       "      <td>31</td>\n",
       "      <td>4</td>\n",
       "      <td>1</td>\n",
       "      <td>0</td>\n",
       "      <td>44</td>\n",
       "    </tr>\n",
       "    <tr>\n",
       "      <td>2</td>\n",
       "      <td>0867591</td>\n",
       "      <td>182.363636</td>\n",
       "      <td>1</td>\n",
       "      <td>2</td>\n",
       "      <td>0</td>\n",
       "      <td>1</td>\n",
       "      <td>3</td>\n",
       "      <td>0</td>\n",
       "      <td>2</td>\n",
       "      <td>0</td>\n",
       "      <td>...</td>\n",
       "      <td>0</td>\n",
       "      <td>0</td>\n",
       "      <td>0</td>\n",
       "      <td>1</td>\n",
       "      <td>1</td>\n",
       "      <td>5</td>\n",
       "      <td>0</td>\n",
       "      <td>0</td>\n",
       "      <td>0</td>\n",
       "      <td>7</td>\n",
       "    </tr>\n",
       "    <tr>\n",
       "      <td>3</td>\n",
       "      <td>2015958</td>\n",
       "      <td>488.615385</td>\n",
       "      <td>1</td>\n",
       "      <td>0</td>\n",
       "      <td>1</td>\n",
       "      <td>0</td>\n",
       "      <td>2</td>\n",
       "      <td>2</td>\n",
       "      <td>0</td>\n",
       "      <td>0</td>\n",
       "      <td>...</td>\n",
       "      <td>0</td>\n",
       "      <td>0</td>\n",
       "      <td>0</td>\n",
       "      <td>0</td>\n",
       "      <td>0</td>\n",
       "      <td>2</td>\n",
       "      <td>2</td>\n",
       "      <td>0</td>\n",
       "      <td>0</td>\n",
       "      <td>4</td>\n",
       "    </tr>\n",
       "    <tr>\n",
       "      <td>4</td>\n",
       "      <td>2055759</td>\n",
       "      <td>134.769231</td>\n",
       "      <td>0</td>\n",
       "      <td>2</td>\n",
       "      <td>1</td>\n",
       "      <td>0</td>\n",
       "      <td>0</td>\n",
       "      <td>0</td>\n",
       "      <td>0</td>\n",
       "      <td>2</td>\n",
       "      <td>...</td>\n",
       "      <td>0</td>\n",
       "      <td>0</td>\n",
       "      <td>0</td>\n",
       "      <td>0</td>\n",
       "      <td>0</td>\n",
       "      <td>6</td>\n",
       "      <td>0</td>\n",
       "      <td>0</td>\n",
       "      <td>0</td>\n",
       "      <td>6</td>\n",
       "    </tr>\n",
       "  </tbody>\n",
       "</table>\n",
       "<p>5 rows × 224 columns</p>\n",
       "</div>"
      ],
      "text/plain": [
       "       PID   event_day  target  var_0  var_1  var_2  var_3  var_4  var_5  \\\n",
       "0  0277965  632.088235       1      6      0      0      1      3      0   \n",
       "1  0742011  259.244898       1     18      0      0     14      0      6   \n",
       "2  0867591  182.363636       1      2      0      1      3      0      2   \n",
       "3  2015958  488.615385       1      0      1      0      2      2      0   \n",
       "4  2055759  134.769231       0      2      1      0      0      0      0   \n",
       "\n",
       "   var_6  ...  var_611  var_612  var_613  var_615  var_616  var_617  var_618  \\\n",
       "0      0  ...        0        0        0        0        0        3        3   \n",
       "1      0  ...        0        0        0        0        8       31        4   \n",
       "2      0  ...        0        0        0        1        1        5        0   \n",
       "3      0  ...        0        0        0        0        0        2        2   \n",
       "4      2  ...        0        0        0        0        0        6        0   \n",
       "\n",
       "   var_619  var_620  var_621  \n",
       "0        0        0        6  \n",
       "1        1        0       44  \n",
       "2        0        0        7  \n",
       "3        0        0        4  \n",
       "4        0        0        6  \n",
       "\n",
       "[5 rows x 224 columns]"
      ]
     },
     "execution_count": 68,
     "metadata": {},
     "output_type": "execute_result"
    }
   ],
   "source": [
    "df_agg.head()"
   ]
  },
  {
   "cell_type": "markdown",
   "metadata": {},
   "source": [
    "## Gradient Boosting Aggregated Dataset"
   ]
  },
  {
   "cell_type": "code",
   "execution_count": 69,
   "metadata": {},
   "outputs": [],
   "source": [
    "X = df_agg.iloc[:, 3:] # pd.concat([df_agg.event_day, df_agg.iloc[:, 3:]], axis=1)\n",
    "y = df_agg.target\n",
    "\n",
    "X_train, X_test, y_train, y_test = train_test_split(X, y, test_size = .25, random_state = rand_seed)"
   ]
  },
  {
   "cell_type": "code",
   "execution_count": 70,
   "metadata": {},
   "outputs": [
    {
     "data": {
      "text/plain": [
       "1    149\n",
       "0     27\n",
       "Name: target, dtype: int64"
      ]
     },
     "execution_count": 70,
     "metadata": {},
     "output_type": "execute_result"
    }
   ],
   "source": [
    "y_train.value_counts()"
   ]
  },
  {
   "cell_type": "code",
   "execution_count": 71,
   "metadata": {},
   "outputs": [
    {
     "data": {
      "text/plain": [
       "1    51\n",
       "0     8\n",
       "Name: target, dtype: int64"
      ]
     },
     "execution_count": 71,
     "metadata": {},
     "output_type": "execute_result"
    }
   ],
   "source": [
    "y_test.value_counts()"
   ]
  },
  {
   "cell_type": "code",
   "execution_count": 72,
   "metadata": {},
   "outputs": [],
   "source": [
    "gb = GradientBoostingClassifier(learning_rate=0.06, n_estimators=50, random_state=rand_seed)\n",
    "#gb = XGBClassifier(learning_rate=0.2, n_estimators=500)\n",
    "gb.fit(X_train, y_train)\n",
    "train_pred = gb.predict(X_train)\n",
    "y_score = gb.predict(X_test)"
   ]
  },
  {
   "cell_type": "code",
   "execution_count": 73,
   "metadata": {},
   "outputs": [
    {
     "name": "stdout",
     "output_type": "stream",
     "text": [
      "F1 score for train set:  0.9706840390879479\n",
      "F1 score for test set:  0.9174311926605505\n"
     ]
    }
   ],
   "source": [
    "print('F1 score for train set: ', f1_score(y_train, train_pred))\n",
    "print('F1 score for test set: ', f1_score(y_test, y_score))"
   ]
  },
  {
   "cell_type": "code",
   "execution_count": 74,
   "metadata": {},
   "outputs": [
    {
     "name": "stdout",
     "output_type": "stream",
     "text": [
      "ACC score for train set:  0.9488636363636364\n",
      "ACC score for test set:  0.847457627118644\n"
     ]
    }
   ],
   "source": [
    "from sklearn.metrics import accuracy_score\n",
    "\n",
    "print('ACC score for train set: ', accuracy_score(y_train, train_pred))\n",
    "print('ACC score for test set: ', accuracy_score(y_test, y_score))"
   ]
  },
  {
   "cell_type": "code",
   "execution_count": 75,
   "metadata": {},
   "outputs": [
    {
     "name": "stderr",
     "output_type": "stream",
     "text": [
      "/Library/Frameworks/Python.framework/Versions/3.7/lib/python3.7/site-packages/sklearn/model_selection/_search.py:814: DeprecationWarning: The default of the `iid` parameter will change from True to False in version 0.22 and will be removed in 0.24. This will change numeric results when test-set sizes are unequal.\n",
      "  DeprecationWarning)\n"
     ]
    },
    {
     "name": "stdout",
     "output_type": "stream",
     "text": [
      "Best: 0.925707 using {'learning_rate': 0.1, 'n_estimators': 25}\n",
      "0.921271 (0.014039) with: {'learning_rate': 0.05, 'n_estimators': 25}\n",
      "0.923539 (0.016422) with: {'learning_rate': 0.05, 'n_estimators': 50}\n",
      "0.923439 (0.016711) with: {'learning_rate': 0.05, 'n_estimators': 100}\n",
      "0.904809 (0.033704) with: {'learning_rate': 0.05, 'n_estimators': 200}\n",
      "0.904580 (0.039631) with: {'learning_rate': 0.05, 'n_estimators': 300}\n",
      "0.899319 (0.038352) with: {'learning_rate': 0.05, 'n_estimators': 400}\n",
      "0.902080 (0.037271) with: {'learning_rate': 0.05, 'n_estimators': 500}\n",
      "0.921271 (0.014039) with: {'learning_rate': 0.06, 'n_estimators': 25}\n",
      "0.923439 (0.016711) with: {'learning_rate': 0.06, 'n_estimators': 50}\n",
      "0.915631 (0.023476) with: {'learning_rate': 0.06, 'n_estimators': 100}\n",
      "0.899319 (0.038352) with: {'learning_rate': 0.06, 'n_estimators': 200}\n",
      "0.904809 (0.033704) with: {'learning_rate': 0.06, 'n_estimators': 300}\n",
      "0.899319 (0.038352) with: {'learning_rate': 0.06, 'n_estimators': 400}\n",
      "0.904247 (0.039427) with: {'learning_rate': 0.06, 'n_estimators': 500}\n",
      "0.925707 (0.018494) with: {'learning_rate': 0.1, 'n_estimators': 25}\n",
      "0.917767 (0.025958) with: {'learning_rate': 0.1, 'n_estimators': 50}\n",
      "0.909729 (0.032734) with: {'learning_rate': 0.1, 'n_estimators': 100}\n",
      "0.906147 (0.043539) with: {'learning_rate': 0.1, 'n_estimators': 200}\n",
      "0.903556 (0.044039) with: {'learning_rate': 0.1, 'n_estimators': 300}\n",
      "0.895007 (0.052004) with: {'learning_rate': 0.1, 'n_estimators': 400}\n",
      "0.902771 (0.051255) with: {'learning_rate': 0.1, 'n_estimators': 500}\n",
      "0.915265 (0.023979) with: {'learning_rate': 0.2, 'n_estimators': 25}\n",
      "0.909295 (0.034173) with: {'learning_rate': 0.2, 'n_estimators': 50}\n",
      "0.898454 (0.040750) with: {'learning_rate': 0.2, 'n_estimators': 100}\n",
      "0.903636 (0.040155) with: {'learning_rate': 0.2, 'n_estimators': 200}\n",
      "0.898464 (0.042074) with: {'learning_rate': 0.2, 'n_estimators': 300}\n",
      "0.895558 (0.044755) with: {'learning_rate': 0.2, 'n_estimators': 400}\n",
      "0.898139 (0.043486) with: {'learning_rate': 0.2, 'n_estimators': 500}\n",
      "0.906876 (0.028925) with: {'learning_rate': 0.3, 'n_estimators': 25}\n",
      "0.903639 (0.040971) with: {'learning_rate': 0.3, 'n_estimators': 50}\n",
      "0.899394 (0.034236) with: {'learning_rate': 0.3, 'n_estimators': 100}\n",
      "0.890002 (0.047813) with: {'learning_rate': 0.3, 'n_estimators': 200}\n",
      "0.894996 (0.051442) with: {'learning_rate': 0.3, 'n_estimators': 300}\n",
      "0.905072 (0.049424) with: {'learning_rate': 0.3, 'n_estimators': 400}\n",
      "0.896926 (0.053300) with: {'learning_rate': 0.3, 'n_estimators': 500}\n"
     ]
    },
    {
     "data": {
      "image/png": "[encoded data removed]",
      "text/plain": [
       "<Figure size 432x288 with 1 Axes>"
      ]
     },
     "metadata": {
      "needs_background": "light"
     },
     "output_type": "display_data"
    }
   ],
   "source": [
    "#from xgboost import XGBClassifier\n",
    "from sklearn.model_selection import GridSearchCV\n",
    "from sklearn.model_selection import StratifiedKFold\n",
    "import numpy\n",
    "from matplotlib import pyplot\n",
    "\n",
    "# grid search\n",
    "model = GradientBoostingClassifier()\n",
    "n_estimators = [25, 50, 100, 200, 300, 400, 500]\n",
    "learning_rate = [0.05, 0.06, 0.1, 0.2, 0.3]\n",
    "param_grid = dict(learning_rate=learning_rate, n_estimators=n_estimators)\n",
    "kfold = StratifiedKFold(n_splits=10, shuffle=True, random_state=7)\n",
    "grid_search = GridSearchCV(model, param_grid, scoring=\"f1\", n_jobs=-1, cv=kfold)\n",
    "grid_result = grid_search.fit(X, y)\n",
    "# summarize results\n",
    "print(\"Best: %f using %s\" % (grid_result.best_score_, grid_result.best_params_))\n",
    "means = grid_result.cv_results_['mean_test_score']\n",
    "stds = grid_result.cv_results_['std_test_score']\n",
    "params = grid_result.cv_results_['params']\n",
    "for mean, stdev, param in zip(means, stds, params):\n",
    "\tprint(\"%f (%f) with: %r\" % (mean, stdev, param))\n",
    "# plot results\n",
    "scores = numpy.array(means).reshape(len(learning_rate), len(n_estimators))\n",
    "for i, value in enumerate(learning_rate):\n",
    "    pyplot.plot(n_estimators, scores[i], label='learning_rate: ' + str(value))\n",
    "pyplot.legend()\n",
    "pyplot.xlabel('n_estimators')\n",
    "pyplot.ylabel('F1 Score')\n",
    "pyplot.savefig('n_estimators_vs_learning_rate.png')"
   ]
  },
  {
   "cell_type": "code",
   "execution_count": 76,
   "metadata": {},
   "outputs": [
    {
     "name": "stdout",
     "output_type": "stream",
     "text": [
      "Confusion matrix for train set: \n"
     ]
    },
    {
     "data": {
      "text/plain": [
       "array([[ 18,   9],\n",
       "       [  0, 149]])"
      ]
     },
     "execution_count": 76,
     "metadata": {},
     "output_type": "execute_result"
    }
   ],
   "source": [
    "print('Confusion matrix for train set: ')\n",
    "confusion_matrix(y_train, train_pred)"
   ]
  },
  {
   "cell_type": "code",
   "execution_count": 77,
   "metadata": {},
   "outputs": [
    {
     "name": "stdout",
     "output_type": "stream",
     "text": [
      "Confusion matrix for train set: \n"
     ]
    },
    {
     "data": {
      "text/plain": [
       "array([[ 0,  8],\n",
       "       [ 1, 50]])"
      ]
     },
     "execution_count": 77,
     "metadata": {},
     "output_type": "execute_result"
    }
   ],
   "source": [
    "print('Confusion matrix for train set: ')\n",
    "confusion_matrix(y_test, y_score)"
   ]
  },
  {
   "cell_type": "code",
   "execution_count": 78,
   "metadata": {},
   "outputs": [
    {
     "name": "stdout",
     "output_type": "stream",
     "text": [
      "Average precision-recall score (PR-AUC): 0.86\n"
     ]
    }
   ],
   "source": [
    "average_precision = average_precision_score(y_test, y_score)\n",
    "\n",
    "print('Average precision-recall score (PR-AUC): {0:0.2f}'.format(\n",
    "      average_precision))"
   ]
  },
  {
   "cell_type": "code",
   "execution_count": 79,
   "metadata": {},
   "outputs": [
    {
     "data": {
      "text/plain": [
       "Text(0.5, 1.0, '2-class Precision-Recall curve: PR-AUC=0.86')"
      ]
     },
     "execution_count": 79,
     "metadata": {},
     "output_type": "execute_result"
    },
    {
     "data": {
      "image/png": "[encoded data removed]",
      "text/plain": [
       "<Figure size 432x288 with 1 Axes>"
      ]
     },
     "metadata": {
      "needs_background": "light"
     },
     "output_type": "display_data"
    }
   ],
   "source": [
    "from sklearn.metrics import precision_recall_curve\n",
    "import matplotlib.pyplot as plt\n",
    "from inspect import signature\n",
    "\n",
    "precision, recall, _ = precision_recall_curve(y_test, y_score)\n",
    "\n",
    "# In matplotlib < 1.5, plt.fill_between does not have a 'step' argument\n",
    "step_kwargs = ({'step': 'post'}\n",
    "               if 'step' in signature(plt.fill_between).parameters\n",
    "               else {})\n",
    "plt.step(recall, precision, color='b', alpha=0.2,\n",
    "         where='post')\n",
    "plt.fill_between(recall, precision, alpha=0.2, color='b', **step_kwargs)\n",
    "\n",
    "plt.xlabel('Recall')\n",
    "plt.ylabel('Precision')\n",
    "plt.ylim([0.0, 1.05])\n",
    "plt.xlim([0.0, 1.0])\n",
    "plt.title('2-class Precision-Recall curve: PR-AUC={0:0.2f}'.format(\n",
    "          average_precision))\n"
   ]
  },
  {
   "cell_type": "code",
   "execution_count": 80,
   "metadata": {},
   "outputs": [
    {
     "data": {
      "text/plain": [
       "<matplotlib.axes._subplots.AxesSubplot at 0x12de22390>"
      ]
     },
     "execution_count": 80,
     "metadata": {},
     "output_type": "execute_result"
    },
    {
     "data": {
      "image/png": "[encoded data removed]",
      "text/plain": [
       "<Figure size 432x288 with 1 Axes>"
      ]
     },
     "metadata": {
      "needs_background": "light"
     },
     "output_type": "display_data"
    }
   ],
   "source": [
    "feature_importance = pd.Series(gb.feature_importances_, index=X_train.columns)\n",
    "feature_importance.nlargest(15).plot(kind='barh')"
   ]
  },
  {
   "cell_type": "code",
   "execution_count": 81,
   "metadata": {},
   "outputs": [
    {
     "data": {
      "text/plain": [
       "['e_response_1',\n",
       " 'w_isp_stop_2',\n",
       " 'relapse_mutations___14',\n",
       " 'graft_rej_event',\n",
       " 'e_response_2',\n",
       " 'wbc_2',\n",
       " 'tbidose_le450',\n",
       " 'w_treatment_consolidation_1',\n",
       " 'relapse_mutations___21',\n",
       " 'pb_blasts_1',\n",
       " 'hct1_dx_4',\n",
       " 'bmblasts_known',\n",
       " 'hla_cco_URD/MATCHED',\n",
       " 'w_relapse_cns_details___5',\n",
       " 'w_treatment_targeted___13']"
      ]
     },
     "execution_count": 81,
     "metadata": {},
     "output_type": "execute_result"
    }
   ],
   "source": [
    "feature_list = list(feature_importance.nlargest(15).index.str.slice(start=4).astype(int))\n",
    "[ddict.get(x) for x in feature_list]"
   ]
  },
  {
   "cell_type": "markdown",
   "metadata": {},
   "source": [
    "## Upsampling: Gradient Boosting with upsampled aggregated dataset"
   ]
  },
  {
   "cell_type": "code",
   "execution_count": 117,
   "metadata": {},
   "outputs": [
    {
     "data": {
      "text/plain": [
       "1    200\n",
       "0     35\n",
       "Name: target, dtype: int64"
      ]
     },
     "execution_count": 117,
     "metadata": {},
     "output_type": "execute_result"
    }
   ],
   "source": [
    "df_agg.target.value_counts()"
   ]
  },
  {
   "cell_type": "code",
   "execution_count": 111,
   "metadata": {},
   "outputs": [
    {
     "data": {
      "text/plain": [
       "1    200\n",
       "0    200\n",
       "Name: target, dtype: int64"
      ]
     },
     "execution_count": 111,
     "metadata": {},
     "output_type": "execute_result"
    }
   ],
   "source": [
    "from sklearn.utils import resample\n",
    "relapse = df_agg[df_agg.target==1]\n",
    "no_relapse =df_agg[df_agg.target==0]\n",
    "\n",
    "no_relapse_upsampled = resample(no_relapse, replace=True, n_samples=len(relapse))\n",
    "upsampled = pd.concat([no_relapse_upsampled, relapse])\n",
    "upsampled.target.value_counts()"
   ]
  },
  {
   "cell_type": "code",
   "execution_count": 113,
   "metadata": {},
   "outputs": [],
   "source": [
    "X = upsampled.iloc[:, 3:] # pd.concat([upsampled.event_day, upsampled.iloc[:, 3:]], axis = 1)\n",
    "y = upsampled.target\n",
    "\n",
    "X_train, X_test, y_train, y_test = train_test_split(X, y, test_size = .25, random_state = rand_seed)"
   ]
  },
  {
   "cell_type": "code",
   "execution_count": 115,
   "metadata": {},
   "outputs": [
    {
     "data": {
      "text/plain": [
       "0    54\n",
       "1    46\n",
       "Name: target, dtype: int64"
      ]
     },
     "execution_count": 115,
     "metadata": {},
     "output_type": "execute_result"
    }
   ],
   "source": [
    "y_test.value_counts()"
   ]
  },
  {
   "cell_type": "code",
   "execution_count": 114,
   "metadata": {},
   "outputs": [
    {
     "data": {
      "text/plain": [
       "1    154\n",
       "0    146\n",
       "Name: target, dtype: int64"
      ]
     },
     "execution_count": 114,
     "metadata": {},
     "output_type": "execute_result"
    }
   ],
   "source": [
    "y_train.value_counts()"
   ]
  },
  {
   "cell_type": "code",
   "execution_count": 100,
   "metadata": {},
   "outputs": [],
   "source": [
    "gb = GradientBoostingClassifier(learning_rate=0.05, n_estimators=400, random_state=rand_seed)\n",
    "gb.fit(X_train, y_train)\n",
    "train_pred = gb.predict(X_train)\n",
    "y_score = gb.predict(X_test)"
   ]
  },
  {
   "cell_type": "code",
   "execution_count": 101,
   "metadata": {},
   "outputs": [
    {
     "name": "stdout",
     "output_type": "stream",
     "text": [
      "F1 score for train set:  1.0\n",
      "F1 score for test set:  0.909090909090909\n"
     ]
    }
   ],
   "source": [
    "print('F1 score for train set: ', f1_score(y_train, train_pred))\n",
    "print('F1 score for test set: ', f1_score(y_test, y_score))"
   ]
  },
  {
   "cell_type": "code",
   "execution_count": 102,
   "metadata": {},
   "outputs": [
    {
     "name": "stdout",
     "output_type": "stream",
     "text": [
      "Confusion matrix for train set: \n"
     ]
    },
    {
     "data": {
      "text/plain": [
       "array([[146,   0],\n",
       "       [  0, 154]])"
      ]
     },
     "execution_count": 102,
     "metadata": {},
     "output_type": "execute_result"
    }
   ],
   "source": [
    "print('Confusion matrix for train set: ')\n",
    "confusion_matrix(y_train, train_pred)"
   ]
  },
  {
   "cell_type": "code",
   "execution_count": 103,
   "metadata": {},
   "outputs": [
    {
     "name": "stdout",
     "output_type": "stream",
     "text": [
      "Confusion matrix for train set: \n"
     ]
    },
    {
     "data": {
      "text/plain": [
       "array([[52,  2],\n",
       "       [ 6, 40]])"
      ]
     },
     "execution_count": 103,
     "metadata": {},
     "output_type": "execute_result"
    }
   ],
   "source": [
    "print('Confusion matrix for train set: ')\n",
    "confusion_matrix(y_test, y_score)"
   ]
  },
  {
   "cell_type": "code",
   "execution_count": 104,
   "metadata": {},
   "outputs": [
    {
     "name": "stdout",
     "output_type": "stream",
     "text": [
      "Average precision-recall score (PR-AUC): 0.89\n"
     ]
    }
   ],
   "source": [
    "average_precision = average_precision_score(y_test, y_score)\n",
    "\n",
    "print('Average precision-recall score (PR-AUC): {0:0.2f}'.format(\n",
    "      average_precision))"
   ]
  },
  {
   "cell_type": "code",
   "execution_count": 105,
   "metadata": {},
   "outputs": [
    {
     "data": {
      "text/plain": [
       "Text(0.5, 1.0, '2-class Precision-Recall curve: PR-AUC=0.89')"
      ]
     },
     "execution_count": 105,
     "metadata": {},
     "output_type": "execute_result"
    },
    {
     "data": {
      "image/png": "[encoded data removed]",
      "text/plain": [
       "<Figure size 432x288 with 1 Axes>"
      ]
     },
     "metadata": {
      "needs_background": "light"
     },
     "output_type": "display_data"
    }
   ],
   "source": [
    "from sklearn.metrics import precision_recall_curve\n",
    "import matplotlib.pyplot as plt\n",
    "from inspect import signature\n",
    "\n",
    "precision, recall, _ = precision_recall_curve(y_test, y_score)\n",
    "\n",
    "# In matplotlib < 1.5, plt.fill_between does not have a 'step' argument\n",
    "step_kwargs = ({'step': 'post'}\n",
    "               if 'step' in signature(plt.fill_between).parameters\n",
    "               else {})\n",
    "plt.step(recall, precision, color='b', alpha=0.2,\n",
    "         where='post')\n",
    "plt.fill_between(recall, precision, alpha=0.2, color='b', **step_kwargs)\n",
    "\n",
    "plt.xlabel('Recall')\n",
    "plt.ylabel('Precision')\n",
    "plt.ylim([0.0, 1.05])\n",
    "plt.xlim([0.0, 1.0])\n",
    "plt.title('2-class Precision-Recall curve: PR-AUC={0:0.2f}'.format(\n",
    "          average_precision))\n"
   ]
  },
  {
   "cell_type": "code",
   "execution_count": 106,
   "metadata": {},
   "outputs": [
    {
     "data": {
      "text/plain": [
       "<matplotlib.axes._subplots.AxesSubplot at 0x12dfa3748>"
      ]
     },
     "execution_count": 106,
     "metadata": {},
     "output_type": "execute_result"
    },
    {
     "data": {
      "image/png": "[encoded data removed]",
      "text/plain": [
       "<Figure size 432x288 with 1 Axes>"
      ]
     },
     "metadata": {
      "needs_background": "light"
     },
     "output_type": "display_data"
    }
   ],
   "source": [
    "feature_importance = pd.Series(gb.feature_importances_, index=X_train.columns)\n",
    "feature_importance.nlargest(15).plot(kind='barh')"
   ]
  },
  {
   "cell_type": "code",
   "execution_count": 109,
   "metadata": {},
   "outputs": [],
   "source": [
    "feature_list = list(feature_importance.nlargest(15).index.str.slice(start=4).astype(int))"
   ]
  },
  {
   "cell_type": "code",
   "execution_count": 110,
   "metadata": {},
   "outputs": [
    {
     "data": {
      "text/plain": [
       "[27, 28, 617, 21, 621, 47, 590, 33, 18, 12, 550, 55, 0, 51, 48]"
      ]
     },
     "execution_count": 110,
     "metadata": {},
     "output_type": "execute_result"
    }
   ],
   "source": [
    "feature_list"
   ]
  },
  {
   "cell_type": "code",
   "execution_count": 108,
   "metadata": {},
   "outputs": [
    {
     "data": {
      "text/plain": [
       "['e_response_1',\n",
       " 'e_response_2',\n",
       " 'wbc_2',\n",
       " 'delatg',\n",
       " 'wbc_know',\n",
       " 'gvhd_event',\n",
       " 'w_treatment_induction_8',\n",
       " 'eln_final_index_relapse_3',\n",
       " 'cmvx_neg_neg',\n",
       " 'bmblasts_known',\n",
       " 'w_sub_cgvh_severity_2',\n",
       " 'hct1_eln_1',\n",
       " 'Chemotherapy',\n",
       " 'hct1_dx_4',\n",
       " 'hct1_dx_1']"
      ]
     },
     "execution_count": 108,
     "metadata": {},
     "output_type": "execute_result"
    }
   ],
   "source": [
    "[ddict.get(x) for x in feature_list]"
   ]
  }
 ],
 "metadata": {
  "kernelspec": {
   "display_name": "Python 3",
   "language": "python",
   "name": "python3"
  },
  "language_info": {
   "codemirror_mode": {
    "name": "ipython",
    "version": 3
   },
   "file_extension": ".py",
   "mimetype": "text/x-python",
   "name": "python",
   "nbconvert_exporter": "python",
   "pygments_lexer": "ipython3",
   "version": "3.7.3"
  }
 },
 "nbformat": 4,
 "nbformat_minor": 2
}

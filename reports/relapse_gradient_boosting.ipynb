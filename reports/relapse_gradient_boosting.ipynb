{
 "cells": [
  {
   "cell_type": "code",
   "execution_count": 1,
   "metadata": {},
   "outputs": [],
   "source": [
    "import pandas as pd\n",
    "import seaborn as sns\n",
    "\n",
    "from sklearn.preprocessing import MultiLabelBinarizer\n",
    "from sklearn.metrics import average_precision_score\n"
   ]
  },
  {
   "cell_type": "markdown",
   "metadata": {},
   "source": [
    "## Data Manipulation"
   ]
  },
  {
   "cell_type": "code",
   "execution_count": 2,
   "metadata": {},
   "outputs": [],
   "source": [
    "raw_df = pd.read_pickle('../data/training_df.pkl')\n",
    "ddict = pd.read_pickle('../data_dict/data_dictionary.pkl')"
   ]
  },
  {
   "cell_type": "code",
   "execution_count": 3,
   "metadata": {},
   "outputs": [
    {
     "data": {
      "text/html": [
       "<div>\n",
       "<style scoped>\n",
       "    .dataframe tbody tr th:only-of-type {\n",
       "        vertical-align: middle;\n",
       "    }\n",
       "\n",
       "    .dataframe tbody tr th {\n",
       "        vertical-align: top;\n",
       "    }\n",
       "\n",
       "    .dataframe thead th {\n",
       "        text-align: right;\n",
       "    }\n",
       "</style>\n",
       "<table border=\"1\" class=\"dataframe\">\n",
       "  <thead>\n",
       "    <tr style=\"text-align: right;\">\n",
       "      <th></th>\n",
       "      <th>PID</th>\n",
       "      <th>numerics</th>\n",
       "      <th>codes</th>\n",
       "      <th>to_event</th>\n",
       "      <th>target</th>\n",
       "    </tr>\n",
       "  </thead>\n",
       "  <tbody>\n",
       "    <tr>\n",
       "      <td>0</td>\n",
       "      <td>2570828</td>\n",
       "      <td>[[], [], [], [], [], [], []]</td>\n",
       "      <td>[[129, 4, 133, 69, 136, 458, 459, 492, 45, 524...</td>\n",
       "      <td>[0, 180, 244, 300, 323, 685, 716]</td>\n",
       "      <td>0</td>\n",
       "    </tr>\n",
       "    <tr>\n",
       "      <td>1</td>\n",
       "      <td>2570828</td>\n",
       "      <td>[[], [], [], [], [], [], []]</td>\n",
       "      <td>[[129, 4, 133, 69, 136, 458, 459, 492, 45, 524...</td>\n",
       "      <td>[0, 180, 244, 300, 323, 685, 716]</td>\n",
       "      <td>0</td>\n",
       "    </tr>\n",
       "    <tr>\n",
       "      <td>2</td>\n",
       "      <td>2650036</td>\n",
       "      <td>[[], [], [], [], []]</td>\n",
       "      <td>[[129, 4, 133, 70, 458, 524, 460, 78, 46, 528,...</td>\n",
       "      <td>[0, 79, 89, 96, 99]</td>\n",
       "      <td>1</td>\n",
       "    </tr>\n",
       "    <tr>\n",
       "      <td>3</td>\n",
       "      <td>2650036</td>\n",
       "      <td>[[], [], [], [], [], [], []]</td>\n",
       "      <td>[[129, 4, 133, 70, 458, 524, 460, 78, 46, 528,...</td>\n",
       "      <td>[0, 79, 89, 96, 99, 119, 135]</td>\n",
       "      <td>1</td>\n",
       "    </tr>\n",
       "    <tr>\n",
       "      <td>4</td>\n",
       "      <td>2650036</td>\n",
       "      <td>[[], [], [], [], [], [], [], [], [], []]</td>\n",
       "      <td>[[129, 4, 133, 70, 458, 524, 460, 78, 46, 528,...</td>\n",
       "      <td>[0, 79, 89, 96, 99, 119, 135, 149, 156, 161]</td>\n",
       "      <td>1</td>\n",
       "    </tr>\n",
       "  </tbody>\n",
       "</table>\n",
       "</div>"
      ],
      "text/plain": [
       "       PID                                  numerics  \\\n",
       "0  2570828              [[], [], [], [], [], [], []]   \n",
       "1  2570828              [[], [], [], [], [], [], []]   \n",
       "2  2650036                      [[], [], [], [], []]   \n",
       "3  2650036              [[], [], [], [], [], [], []]   \n",
       "4  2650036  [[], [], [], [], [], [], [], [], [], []]   \n",
       "\n",
       "                                               codes  \\\n",
       "0  [[129, 4, 133, 69, 136, 458, 459, 492, 45, 524...   \n",
       "1  [[129, 4, 133, 69, 136, 458, 459, 492, 45, 524...   \n",
       "2  [[129, 4, 133, 70, 458, 524, 460, 78, 46, 528,...   \n",
       "3  [[129, 4, 133, 70, 458, 524, 460, 78, 46, 528,...   \n",
       "4  [[129, 4, 133, 70, 458, 524, 460, 78, 46, 528,...   \n",
       "\n",
       "                                       to_event  target  \n",
       "0             [0, 180, 244, 300, 323, 685, 716]       0  \n",
       "1             [0, 180, 244, 300, 323, 685, 716]       0  \n",
       "2                           [0, 79, 89, 96, 99]       1  \n",
       "3                 [0, 79, 89, 96, 99, 119, 135]       1  \n",
       "4  [0, 79, 89, 96, 99, 119, 135, 149, 156, 161]       1  "
      ]
     },
     "execution_count": 3,
     "metadata": {},
     "output_type": "execute_result"
    }
   ],
   "source": [
    "raw_df.head()"
   ]
  },
  {
   "cell_type": "code",
   "execution_count": 4,
   "metadata": {},
   "outputs": [
    {
     "data": {
      "text/plain": [
       "1    411\n",
       "0    182\n",
       "Name: target, dtype: int64"
      ]
     },
     "execution_count": 4,
     "metadata": {},
     "output_type": "execute_result"
    }
   ],
   "source": [
    "raw_df.target.value_counts()"
   ]
  },
  {
   "cell_type": "code",
   "execution_count": 5,
   "metadata": {},
   "outputs": [],
   "source": [
    "def collapse_features(feature_list):\n",
    "    feat_dict = {}\n",
    "    for l in feature_list:\n",
    "        for f in l:\n",
    "            feat_dict[f] = feat_dict.get(f, 0) + 1\n",
    "    return feat_dict"
   ]
  },
  {
   "cell_type": "code",
   "execution_count": 6,
   "metadata": {},
   "outputs": [],
   "source": [
    "raw_df['code_counts'] = raw_df.codes.apply(collapse_features)\n",
    "raw_df['last_day'] = raw_df.to_event.apply(max)\n",
    "raw_df['n_events'] = raw_df.to_event.apply(len)\n",
    "\n",
    "code_data = raw_df.code_counts.apply(pd.Series).fillna(0)"
   ]
  },
  {
   "cell_type": "code",
   "execution_count": 7,
   "metadata": {},
   "outputs": [
    {
     "data": {
      "text/html": [
       "<div>\n",
       "<style scoped>\n",
       "    .dataframe tbody tr th:only-of-type {\n",
       "        vertical-align: middle;\n",
       "    }\n",
       "\n",
       "    .dataframe tbody tr th {\n",
       "        vertical-align: top;\n",
       "    }\n",
       "\n",
       "    .dataframe thead th {\n",
       "        text-align: right;\n",
       "    }\n",
       "</style>\n",
       "<table border=\"1\" class=\"dataframe\">\n",
       "  <thead>\n",
       "    <tr style=\"text-align: right;\">\n",
       "      <th></th>\n",
       "      <th>PID</th>\n",
       "      <th>target</th>\n",
       "      <th>last_day</th>\n",
       "      <th>n_events</th>\n",
       "      <th>0</th>\n",
       "      <th>1</th>\n",
       "      <th>2</th>\n",
       "      <th>3</th>\n",
       "      <th>4</th>\n",
       "      <th>5</th>\n",
       "      <th>...</th>\n",
       "      <th>628</th>\n",
       "      <th>629</th>\n",
       "      <th>630</th>\n",
       "      <th>632</th>\n",
       "      <th>633</th>\n",
       "      <th>634</th>\n",
       "      <th>635</th>\n",
       "      <th>636</th>\n",
       "      <th>637</th>\n",
       "      <th>638</th>\n",
       "    </tr>\n",
       "  </thead>\n",
       "  <tbody>\n",
       "    <tr>\n",
       "      <td>0</td>\n",
       "      <td>2570828</td>\n",
       "      <td>0</td>\n",
       "      <td>716</td>\n",
       "      <td>7</td>\n",
       "      <td>0.0</td>\n",
       "      <td>0.0</td>\n",
       "      <td>0.0</td>\n",
       "      <td>0.0</td>\n",
       "      <td>1.0</td>\n",
       "      <td>0.0</td>\n",
       "      <td>...</td>\n",
       "      <td>0.0</td>\n",
       "      <td>0.0</td>\n",
       "      <td>0.0</td>\n",
       "      <td>0.0</td>\n",
       "      <td>0.0</td>\n",
       "      <td>0.0</td>\n",
       "      <td>0.0</td>\n",
       "      <td>0.0</td>\n",
       "      <td>0.0</td>\n",
       "      <td>0.0</td>\n",
       "    </tr>\n",
       "    <tr>\n",
       "      <td>1</td>\n",
       "      <td>2570828</td>\n",
       "      <td>0</td>\n",
       "      <td>716</td>\n",
       "      <td>7</td>\n",
       "      <td>0.0</td>\n",
       "      <td>0.0</td>\n",
       "      <td>0.0</td>\n",
       "      <td>0.0</td>\n",
       "      <td>1.0</td>\n",
       "      <td>0.0</td>\n",
       "      <td>...</td>\n",
       "      <td>0.0</td>\n",
       "      <td>0.0</td>\n",
       "      <td>0.0</td>\n",
       "      <td>0.0</td>\n",
       "      <td>0.0</td>\n",
       "      <td>0.0</td>\n",
       "      <td>0.0</td>\n",
       "      <td>0.0</td>\n",
       "      <td>0.0</td>\n",
       "      <td>0.0</td>\n",
       "    </tr>\n",
       "    <tr>\n",
       "      <td>2</td>\n",
       "      <td>2650036</td>\n",
       "      <td>1</td>\n",
       "      <td>99</td>\n",
       "      <td>5</td>\n",
       "      <td>1.0</td>\n",
       "      <td>0.0</td>\n",
       "      <td>0.0</td>\n",
       "      <td>1.0</td>\n",
       "      <td>1.0</td>\n",
       "      <td>0.0</td>\n",
       "      <td>...</td>\n",
       "      <td>0.0</td>\n",
       "      <td>0.0</td>\n",
       "      <td>0.0</td>\n",
       "      <td>0.0</td>\n",
       "      <td>0.0</td>\n",
       "      <td>1.0</td>\n",
       "      <td>0.0</td>\n",
       "      <td>1.0</td>\n",
       "      <td>0.0</td>\n",
       "      <td>2.0</td>\n",
       "    </tr>\n",
       "    <tr>\n",
       "      <td>3</td>\n",
       "      <td>2650036</td>\n",
       "      <td>1</td>\n",
       "      <td>135</td>\n",
       "      <td>7</td>\n",
       "      <td>2.0</td>\n",
       "      <td>0.0</td>\n",
       "      <td>0.0</td>\n",
       "      <td>1.0</td>\n",
       "      <td>1.0</td>\n",
       "      <td>0.0</td>\n",
       "      <td>...</td>\n",
       "      <td>0.0</td>\n",
       "      <td>0.0</td>\n",
       "      <td>0.0</td>\n",
       "      <td>1.0</td>\n",
       "      <td>0.0</td>\n",
       "      <td>1.0</td>\n",
       "      <td>0.0</td>\n",
       "      <td>1.0</td>\n",
       "      <td>0.0</td>\n",
       "      <td>3.0</td>\n",
       "    </tr>\n",
       "    <tr>\n",
       "      <td>4</td>\n",
       "      <td>2650036</td>\n",
       "      <td>1</td>\n",
       "      <td>161</td>\n",
       "      <td>10</td>\n",
       "      <td>2.0</td>\n",
       "      <td>0.0</td>\n",
       "      <td>0.0</td>\n",
       "      <td>2.0</td>\n",
       "      <td>1.0</td>\n",
       "      <td>0.0</td>\n",
       "      <td>...</td>\n",
       "      <td>0.0</td>\n",
       "      <td>0.0</td>\n",
       "      <td>0.0</td>\n",
       "      <td>2.0</td>\n",
       "      <td>1.0</td>\n",
       "      <td>1.0</td>\n",
       "      <td>0.0</td>\n",
       "      <td>1.0</td>\n",
       "      <td>0.0</td>\n",
       "      <td>5.0</td>\n",
       "    </tr>\n",
       "  </tbody>\n",
       "</table>\n",
       "<p>5 rows × 236 columns</p>\n",
       "</div>"
      ],
      "text/plain": [
       "       PID  target  last_day  n_events    0    1    2    3    4    5  ...  \\\n",
       "0  2570828       0       716         7  0.0  0.0  0.0  0.0  1.0  0.0  ...   \n",
       "1  2570828       0       716         7  0.0  0.0  0.0  0.0  1.0  0.0  ...   \n",
       "2  2650036       1        99         5  1.0  0.0  0.0  1.0  1.0  0.0  ...   \n",
       "3  2650036       1       135         7  2.0  0.0  0.0  1.0  1.0  0.0  ...   \n",
       "4  2650036       1       161        10  2.0  0.0  0.0  2.0  1.0  0.0  ...   \n",
       "\n",
       "   628  629  630  632  633  634  635  636  637  638  \n",
       "0  0.0  0.0  0.0  0.0  0.0  0.0  0.0  0.0  0.0  0.0  \n",
       "1  0.0  0.0  0.0  0.0  0.0  0.0  0.0  0.0  0.0  0.0  \n",
       "2  0.0  0.0  0.0  0.0  0.0  1.0  0.0  1.0  0.0  2.0  \n",
       "3  0.0  0.0  0.0  1.0  0.0  1.0  0.0  1.0  0.0  3.0  \n",
       "4  0.0  0.0  0.0  2.0  1.0  1.0  0.0  1.0  0.0  5.0  \n",
       "\n",
       "[5 rows x 236 columns]"
      ]
     },
     "execution_count": 7,
     "metadata": {},
     "output_type": "execute_result"
    }
   ],
   "source": [
    "df = pd.concat([raw_df[['PID', 'target', 'last_day', 'n_events']], code_data], axis=1)\n",
    "df.head()"
   ]
  },
  {
   "cell_type": "code",
   "execution_count": 8,
   "metadata": {},
   "outputs": [
    {
     "data": {
      "text/plain": [
       "1    411\n",
       "0    182\n",
       "Name: target, dtype: int64"
      ]
     },
     "execution_count": 8,
     "metadata": {},
     "output_type": "execute_result"
    }
   ],
   "source": [
    "df.target.value_counts()"
   ]
  },
  {
   "cell_type": "code",
   "execution_count": 9,
   "metadata": {},
   "outputs": [],
   "source": [
    "df.to_pickle('training_df_wide.pkl')"
   ]
  },
  {
   "cell_type": "markdown",
   "metadata": {},
   "source": [
    "## Aggregated data\n",
    "\n",
    "By PID:\n",
    "\n",
    "- Sum all the features\n",
    "- Take the event day\n",
    "- Target is 1 if there is ever a relapse"
   ]
  },
  {
   "cell_type": "code",
   "execution_count": 10,
   "metadata": {},
   "outputs": [],
   "source": [
    "df_agg = df.copy()"
   ]
  },
  {
   "cell_type": "code",
   "execution_count": 11,
   "metadata": {},
   "outputs": [
    {
     "data": {
      "text/plain": [
       "(593, 236)"
      ]
     },
     "execution_count": 11,
     "metadata": {},
     "output_type": "execute_result"
    }
   ],
   "source": [
    "df_agg.shape"
   ]
  },
  {
   "cell_type": "code",
   "execution_count": 12,
   "metadata": {},
   "outputs": [
    {
     "name": "stdout",
     "output_type": "stream",
     "text": [
      "Number of unique patients\n"
     ]
    },
    {
     "data": {
      "text/plain": [
       "235"
      ]
     },
     "execution_count": 12,
     "metadata": {},
     "output_type": "execute_result"
    }
   ],
   "source": [
    "print('Number of unique patients')\n",
    "df_agg.PID.nunique()"
   ]
  },
  {
   "cell_type": "code",
   "execution_count": 13,
   "metadata": {},
   "outputs": [
    {
     "name": "stdout",
     "output_type": "stream",
     "text": [
      "Count of relapse vs. no-relapse\n"
     ]
    },
    {
     "data": {
      "text/plain": [
       "1    411\n",
       "0    182\n",
       "Name: target, dtype: int64"
      ]
     },
     "execution_count": 13,
     "metadata": {},
     "output_type": "execute_result"
    }
   ],
   "source": [
    "print('Count of relapse vs. no-relapse')\n",
    "df_agg.target.value_counts()"
   ]
  },
  {
   "cell_type": "markdown",
   "metadata": {},
   "source": [
    "## Boosting"
   ]
  },
  {
   "cell_type": "code",
   "execution_count": 14,
   "metadata": {},
   "outputs": [],
   "source": [
    "# import packages\n",
    "from sklearn.ensemble import RandomForestClassifier, GradientBoostingClassifier, AdaBoostClassifier\n",
    "from sklearn.metrics import f1_score, recall_score, confusion_matrix, precision_score\n",
    "from sklearn.model_selection import train_test_split\n",
    "\n",
    "rand_seed = 123456"
   ]
  },
  {
   "cell_type": "code",
   "execution_count": 15,
   "metadata": {},
   "outputs": [
    {
     "data": {
      "text/html": [
       "<div>\n",
       "<style scoped>\n",
       "    .dataframe tbody tr th:only-of-type {\n",
       "        vertical-align: middle;\n",
       "    }\n",
       "\n",
       "    .dataframe tbody tr th {\n",
       "        vertical-align: top;\n",
       "    }\n",
       "\n",
       "    .dataframe thead th {\n",
       "        text-align: right;\n",
       "    }\n",
       "</style>\n",
       "<table border=\"1\" class=\"dataframe\">\n",
       "  <thead>\n",
       "    <tr style=\"text-align: right;\">\n",
       "      <th></th>\n",
       "      <th>PID</th>\n",
       "      <th>target</th>\n",
       "      <th>last_day</th>\n",
       "      <th>n_events</th>\n",
       "      <th>0</th>\n",
       "      <th>1</th>\n",
       "      <th>2</th>\n",
       "      <th>3</th>\n",
       "      <th>4</th>\n",
       "      <th>5</th>\n",
       "      <th>...</th>\n",
       "      <th>628</th>\n",
       "      <th>629</th>\n",
       "      <th>630</th>\n",
       "      <th>632</th>\n",
       "      <th>633</th>\n",
       "      <th>634</th>\n",
       "      <th>635</th>\n",
       "      <th>636</th>\n",
       "      <th>637</th>\n",
       "      <th>638</th>\n",
       "    </tr>\n",
       "  </thead>\n",
       "  <tbody>\n",
       "    <tr>\n",
       "      <td>0</td>\n",
       "      <td>2570828</td>\n",
       "      <td>0</td>\n",
       "      <td>716</td>\n",
       "      <td>7</td>\n",
       "      <td>0.0</td>\n",
       "      <td>0.0</td>\n",
       "      <td>0.0</td>\n",
       "      <td>0.0</td>\n",
       "      <td>1.0</td>\n",
       "      <td>0.0</td>\n",
       "      <td>...</td>\n",
       "      <td>0.0</td>\n",
       "      <td>0.0</td>\n",
       "      <td>0.0</td>\n",
       "      <td>0.0</td>\n",
       "      <td>0.0</td>\n",
       "      <td>0.0</td>\n",
       "      <td>0.0</td>\n",
       "      <td>0.0</td>\n",
       "      <td>0.0</td>\n",
       "      <td>0.0</td>\n",
       "    </tr>\n",
       "    <tr>\n",
       "      <td>1</td>\n",
       "      <td>2570828</td>\n",
       "      <td>0</td>\n",
       "      <td>716</td>\n",
       "      <td>7</td>\n",
       "      <td>0.0</td>\n",
       "      <td>0.0</td>\n",
       "      <td>0.0</td>\n",
       "      <td>0.0</td>\n",
       "      <td>1.0</td>\n",
       "      <td>0.0</td>\n",
       "      <td>...</td>\n",
       "      <td>0.0</td>\n",
       "      <td>0.0</td>\n",
       "      <td>0.0</td>\n",
       "      <td>0.0</td>\n",
       "      <td>0.0</td>\n",
       "      <td>0.0</td>\n",
       "      <td>0.0</td>\n",
       "      <td>0.0</td>\n",
       "      <td>0.0</td>\n",
       "      <td>0.0</td>\n",
       "    </tr>\n",
       "    <tr>\n",
       "      <td>2</td>\n",
       "      <td>2650036</td>\n",
       "      <td>1</td>\n",
       "      <td>99</td>\n",
       "      <td>5</td>\n",
       "      <td>1.0</td>\n",
       "      <td>0.0</td>\n",
       "      <td>0.0</td>\n",
       "      <td>1.0</td>\n",
       "      <td>1.0</td>\n",
       "      <td>0.0</td>\n",
       "      <td>...</td>\n",
       "      <td>0.0</td>\n",
       "      <td>0.0</td>\n",
       "      <td>0.0</td>\n",
       "      <td>0.0</td>\n",
       "      <td>0.0</td>\n",
       "      <td>1.0</td>\n",
       "      <td>0.0</td>\n",
       "      <td>1.0</td>\n",
       "      <td>0.0</td>\n",
       "      <td>2.0</td>\n",
       "    </tr>\n",
       "    <tr>\n",
       "      <td>3</td>\n",
       "      <td>2650036</td>\n",
       "      <td>1</td>\n",
       "      <td>135</td>\n",
       "      <td>7</td>\n",
       "      <td>2.0</td>\n",
       "      <td>0.0</td>\n",
       "      <td>0.0</td>\n",
       "      <td>1.0</td>\n",
       "      <td>1.0</td>\n",
       "      <td>0.0</td>\n",
       "      <td>...</td>\n",
       "      <td>0.0</td>\n",
       "      <td>0.0</td>\n",
       "      <td>0.0</td>\n",
       "      <td>1.0</td>\n",
       "      <td>0.0</td>\n",
       "      <td>1.0</td>\n",
       "      <td>0.0</td>\n",
       "      <td>1.0</td>\n",
       "      <td>0.0</td>\n",
       "      <td>3.0</td>\n",
       "    </tr>\n",
       "    <tr>\n",
       "      <td>4</td>\n",
       "      <td>2650036</td>\n",
       "      <td>1</td>\n",
       "      <td>161</td>\n",
       "      <td>10</td>\n",
       "      <td>2.0</td>\n",
       "      <td>0.0</td>\n",
       "      <td>0.0</td>\n",
       "      <td>2.0</td>\n",
       "      <td>1.0</td>\n",
       "      <td>0.0</td>\n",
       "      <td>...</td>\n",
       "      <td>0.0</td>\n",
       "      <td>0.0</td>\n",
       "      <td>0.0</td>\n",
       "      <td>2.0</td>\n",
       "      <td>1.0</td>\n",
       "      <td>1.0</td>\n",
       "      <td>0.0</td>\n",
       "      <td>1.0</td>\n",
       "      <td>0.0</td>\n",
       "      <td>5.0</td>\n",
       "    </tr>\n",
       "  </tbody>\n",
       "</table>\n",
       "<p>5 rows × 236 columns</p>\n",
       "</div>"
      ],
      "text/plain": [
       "       PID  target  last_day  n_events    0    1    2    3    4    5  ...  \\\n",
       "0  2570828       0       716         7  0.0  0.0  0.0  0.0  1.0  0.0  ...   \n",
       "1  2570828       0       716         7  0.0  0.0  0.0  0.0  1.0  0.0  ...   \n",
       "2  2650036       1        99         5  1.0  0.0  0.0  1.0  1.0  0.0  ...   \n",
       "3  2650036       1       135         7  2.0  0.0  0.0  1.0  1.0  0.0  ...   \n",
       "4  2650036       1       161        10  2.0  0.0  0.0  2.0  1.0  0.0  ...   \n",
       "\n",
       "   628  629  630  632  633  634  635  636  637  638  \n",
       "0  0.0  0.0  0.0  0.0  0.0  0.0  0.0  0.0  0.0  0.0  \n",
       "1  0.0  0.0  0.0  0.0  0.0  0.0  0.0  0.0  0.0  0.0  \n",
       "2  0.0  0.0  0.0  0.0  0.0  1.0  0.0  1.0  0.0  2.0  \n",
       "3  0.0  0.0  0.0  1.0  0.0  1.0  0.0  1.0  0.0  3.0  \n",
       "4  0.0  0.0  0.0  2.0  1.0  1.0  0.0  1.0  0.0  5.0  \n",
       "\n",
       "[5 rows x 236 columns]"
      ]
     },
     "execution_count": 15,
     "metadata": {},
     "output_type": "execute_result"
    }
   ],
   "source": [
    "df_agg.head()"
   ]
  },
  {
   "cell_type": "markdown",
   "metadata": {},
   "source": [
    "## Gradient Boosting Aggregated Dataset"
   ]
  },
  {
   "cell_type": "code",
   "execution_count": 16,
   "metadata": {},
   "outputs": [],
   "source": [
    "X = df_agg.iloc[:, 3:] # pd.concat([df_agg.event_day, df_agg.iloc[:, 3:]], axis=1)\n",
    "y = df_agg.target\n",
    "\n",
    "X_train, X_test, y_train, y_test = train_test_split(X, y, test_size = .25, random_state = rand_seed)"
   ]
  },
  {
   "cell_type": "code",
   "execution_count": 17,
   "metadata": {},
   "outputs": [
    {
     "data": {
      "text/plain": [
       "1    303\n",
       "0    141\n",
       "Name: target, dtype: int64"
      ]
     },
     "execution_count": 17,
     "metadata": {},
     "output_type": "execute_result"
    }
   ],
   "source": [
    "y_train.value_counts()"
   ]
  },
  {
   "cell_type": "code",
   "execution_count": 18,
   "metadata": {},
   "outputs": [
    {
     "data": {
      "text/plain": [
       "1    108\n",
       "0     41\n",
       "Name: target, dtype: int64"
      ]
     },
     "execution_count": 18,
     "metadata": {},
     "output_type": "execute_result"
    }
   ],
   "source": [
    "y_test.value_counts()"
   ]
  },
  {
   "cell_type": "code",
   "execution_count": 19,
   "metadata": {},
   "outputs": [],
   "source": [
    "gb = GradientBoostingClassifier(learning_rate=0.06, n_estimators=200, random_state=rand_seed)\n",
    "#gb = XGBClassifier(learning_rate=0.2, n_estimators=500)\n",
    "gb.fit(X_train, y_train)\n",
    "y_train_pred = gb.predict(X_train)\n",
    "y_test_pred = gb.predict(X_test)"
   ]
  },
  {
   "cell_type": "code",
   "execution_count": 20,
   "metadata": {},
   "outputs": [
    {
     "name": "stdout",
     "output_type": "stream",
     "text": [
      "F1 score for train set:  0.9275808936825887\n",
      "F1 score for test set:  0.8154506437768241\n"
     ]
    }
   ],
   "source": [
    "print('F1 score for train set: ', f1_score(y_train, y_train_pred))\n",
    "print('F1 score for test set: ', f1_score(y_test, y_test_pred))"
   ]
  },
  {
   "cell_type": "code",
   "execution_count": 21,
   "metadata": {},
   "outputs": [
    {
     "name": "stdout",
     "output_type": "stream",
     "text": [
      "ACC score for train set:  0.8941441441441441\n",
      "ACC score for test set:  0.7114093959731543\n"
     ]
    }
   ],
   "source": [
    "from sklearn.metrics import accuracy_score\n",
    "\n",
    "print('ACC score for train set: ', accuracy_score(y_train, y_train_pred))\n",
    "print('ACC score for test set: ', accuracy_score(y_test, y_test_pred))"
   ]
  },
  {
   "cell_type": "code",
   "execution_count": 22,
   "metadata": {},
   "outputs": [
    {
     "name": "stdout",
     "output_type": "stream",
     "text": [
      "Confusion matrix for train set: \n"
     ]
    },
    {
     "data": {
      "text/plain": [
       "array([[ 96,  45],\n",
       "       [  2, 301]])"
      ]
     },
     "execution_count": 22,
     "metadata": {},
     "output_type": "execute_result"
    }
   ],
   "source": [
    "print('Confusion matrix for train set: ')\n",
    "confusion_matrix(y_train, y_train_pred)"
   ]
  },
  {
   "cell_type": "code",
   "execution_count": 23,
   "metadata": {},
   "outputs": [
    {
     "name": "stdout",
     "output_type": "stream",
     "text": [
      "Confusion matrix for test set: \n"
     ]
    },
    {
     "data": {
      "text/plain": [
       "array([[11, 30],\n",
       "       [13, 95]])"
      ]
     },
     "execution_count": 23,
     "metadata": {},
     "output_type": "execute_result"
    }
   ],
   "source": [
    "print('Confusion matrix for test set: ')\n",
    "confusion_matrix(y_test, y_test_pred)"
   ]
  },
  {
   "cell_type": "code",
   "execution_count": 24,
   "metadata": {},
   "outputs": [
    {
     "name": "stdout",
     "output_type": "stream",
     "text": [
      "Average precision-recall score (PR-AUC): 0.76\n"
     ]
    }
   ],
   "source": [
    "average_precision = average_precision_score(y_test, y_test_pred)\n",
    "\n",
    "print('Average precision-recall score (PR-AUC): {0:0.2f}'.format(\n",
    "      average_precision))"
   ]
  },
  {
   "cell_type": "code",
   "execution_count": 25,
   "metadata": {},
   "outputs": [
    {
     "data": {
      "text/plain": [
       "Text(0.5, 1.0, '2-class Precision-Recall curve: PR-AUC=0.76')"
      ]
     },
     "execution_count": 25,
     "metadata": {},
     "output_type": "execute_result"
    },
    {
     "data": {
      "image/png": "[encoded data removed]",
      "text/plain": [
       "<Figure size 432x288 with 1 Axes>"
      ]
     },
     "metadata": {
      "needs_background": "light"
     },
     "output_type": "display_data"
    }
   ],
   "source": [
    "from sklearn.metrics import precision_recall_curve\n",
    "import matplotlib.pyplot as plt\n",
    "from inspect import signature\n",
    "\n",
    "precision, recall, _ = precision_recall_curve(y_test, y_test_pred)\n",
    "\n",
    "# In matplotlib < 1.5, plt.fill_between does not have a 'step' argument\n",
    "step_kwargs = ({'step': 'post'}\n",
    "               if 'step' in signature(plt.fill_between).parameters\n",
    "               else {})\n",
    "plt.step(recall, precision, color='b', alpha=0.2,\n",
    "         where='post')\n",
    "plt.fill_between(recall, precision, alpha=0.2, color='b', **step_kwargs)\n",
    "\n",
    "plt.xlabel('Recall')\n",
    "plt.ylabel('Precision')\n",
    "plt.ylim([0.0, 1.05])\n",
    "plt.xlim([0.0, 1.0])\n",
    "plt.title('2-class Precision-Recall curve: PR-AUC={0:0.2f}'.format(\n",
    "          average_precision))\n"
   ]
  },
  {
   "cell_type": "code",
   "execution_count": 26,
   "metadata": {},
   "outputs": [
    {
     "data": {
      "text/plain": [
       "<matplotlib.axes._subplots.AxesSubplot at 0x12c8760f0>"
      ]
     },
     "execution_count": 26,
     "metadata": {},
     "output_type": "execute_result"
    },
    {
     "data": {
      "image/png": "[encoded data removed]",
      "text/plain": [
       "<Figure size 432x288 with 1 Axes>"
      ]
     },
     "metadata": {
      "needs_background": "light"
     },
     "output_type": "display_data"
    }
   ],
   "source": [
    "feature_importance = pd.Series(gb.feature_importances_, index=X_train.columns)\n",
    "feature_importance.nlargest(15).plot(kind='barh')"
   ]
  },
  {
   "cell_type": "code",
   "execution_count": 27,
   "metadata": {},
   "outputs": [
    {
     "data": {
      "text/plain": [
       "['txage_4',\n",
       " 'w_isp_stop_2',\n",
       " 'hct1_mrd___4',\n",
       " 'proph_dli_10',\n",
       " 'DLI',\n",
       " 'e_response_2',\n",
       " 'w_treatment_cytokine_2',\n",
       " 'proph_dli_6',\n",
       " 'w_treatment_induction_7',\n",
       " 'w_sub_intrathecal___4',\n",
       " 'e_response_1',\n",
       " None,\n",
       " 'relage_1',\n",
       " 'hct2_conditioning___12',\n",
       " 'relapse_mutations___8']"
      ]
     },
     "execution_count": 27,
     "metadata": {},
     "output_type": "execute_result"
    }
   ],
   "source": [
    "feature_list = list(feature_importance.nlargest(15).index)\n",
    "[ddict.get(x) for x in feature_list if x != 'n_events']"
   ]
  },
  {
   "cell_type": "markdown",
   "metadata": {},
   "source": [
    "## Upsampling: XGBoosting with upsampled aggregated dataset"
   ]
  },
  {
   "cell_type": "code",
   "execution_count": 28,
   "metadata": {},
   "outputs": [
    {
     "data": {
      "text/plain": [
       "1    411\n",
       "0    182\n",
       "Name: target, dtype: int64"
      ]
     },
     "execution_count": 28,
     "metadata": {},
     "output_type": "execute_result"
    }
   ],
   "source": [
    "df_agg.target.value_counts()"
   ]
  },
  {
   "cell_type": "code",
   "execution_count": 29,
   "metadata": {},
   "outputs": [],
   "source": [
    "import numpy as np\n",
    "def split_by_pid(df, split_percent = 0.1, seed = 123):\n",
    "    \"\"\"\n",
    "    partition holdout/test set at pid level\n",
    "    :param df: input data\n",
    "    :param holdout_percent: % of data hold out for testing\n",
    "    :return: two sets: train and test\n",
    "    \"\"\"\n",
    "    np.random.seed(seed)\n",
    "\n",
    "    # get unique patient list (sorted acs)\n",
    "    id_list = np.sort((df.PID.unique()))\n",
    "    perm = np.random.permutation(id_list)\n",
    "    n_id = len(id_list)\n",
    "    sep_index = int(n_id*split_percent)\n",
    "    \n",
    "    test = df.loc[df.PID.isin(perm[:sep_index])]\n",
    "    train = df.loc[df.PID.isin(perm[sep_index:])]\n",
    "\n",
    "    return train, test"
   ]
  },
  {
   "cell_type": "code",
   "execution_count": 30,
   "metadata": {},
   "outputs": [],
   "source": [
    "main, holdout = split_by_pid(df_agg, split_percent=0.2, seed = rand_seed)"
   ]
  },
  {
   "cell_type": "code",
   "execution_count": 31,
   "metadata": {},
   "outputs": [
    {
     "data": {
      "text/plain": [
       "1    90\n",
       "0    44\n",
       "Name: target, dtype: int64"
      ]
     },
     "execution_count": 31,
     "metadata": {},
     "output_type": "execute_result"
    }
   ],
   "source": [
    "holdout.target.value_counts()"
   ]
  },
  {
   "cell_type": "code",
   "execution_count": 32,
   "metadata": {},
   "outputs": [
    {
     "data": {
      "text/plain": [
       "1    321\n",
       "0    138\n",
       "Name: target, dtype: int64"
      ]
     },
     "execution_count": 32,
     "metadata": {},
     "output_type": "execute_result"
    }
   ],
   "source": [
    "main.target.value_counts()"
   ]
  },
  {
   "cell_type": "code",
   "execution_count": 33,
   "metadata": {},
   "outputs": [
    {
     "data": {
      "text/plain": [
       "1    321\n",
       "0    321\n",
       "Name: target, dtype: int64"
      ]
     },
     "execution_count": 33,
     "metadata": {},
     "output_type": "execute_result"
    }
   ],
   "source": [
    "from sklearn.utils import resample\n",
    "relapse = main[main.target==1]\n",
    "no_relapse = main[main.target==0]\n",
    "\n",
    "no_relapse_upsampled = resample(no_relapse, replace=True, n_samples=len(relapse))\n",
    "upsampled = pd.concat([no_relapse_upsampled, relapse])\n",
    "upsampled.target.value_counts()"
   ]
  },
  {
   "cell_type": "code",
   "execution_count": 34,
   "metadata": {},
   "outputs": [],
   "source": [
    "X = upsampled.iloc[:, 3:] # pd.concat([upsampled.event_day, upsampled.iloc[:, 3:]], axis = 1)\n",
    "y = upsampled.target\n",
    "\n",
    "X_train, X_test, y_train, y_test = train_test_split(X, y, test_size = .25, random_state = rand_seed)\n",
    "\n",
    "X_hold = holdout.iloc[:, 3:]\n",
    "y_hold = holdout.target"
   ]
  },
  {
   "cell_type": "code",
   "execution_count": 35,
   "metadata": {},
   "outputs": [
    {
     "data": {
      "text/html": [
       "<div>\n",
       "<style scoped>\n",
       "    .dataframe tbody tr th:only-of-type {\n",
       "        vertical-align: middle;\n",
       "    }\n",
       "\n",
       "    .dataframe tbody tr th {\n",
       "        vertical-align: top;\n",
       "    }\n",
       "\n",
       "    .dataframe thead th {\n",
       "        text-align: right;\n",
       "    }\n",
       "</style>\n",
       "<table border=\"1\" class=\"dataframe\">\n",
       "  <thead>\n",
       "    <tr style=\"text-align: right;\">\n",
       "      <th></th>\n",
       "      <th>n_events</th>\n",
       "      <th>0</th>\n",
       "      <th>1</th>\n",
       "      <th>2</th>\n",
       "      <th>3</th>\n",
       "      <th>4</th>\n",
       "      <th>5</th>\n",
       "      <th>6</th>\n",
       "      <th>7</th>\n",
       "      <th>8</th>\n",
       "      <th>...</th>\n",
       "      <th>628</th>\n",
       "      <th>629</th>\n",
       "      <th>630</th>\n",
       "      <th>632</th>\n",
       "      <th>633</th>\n",
       "      <th>634</th>\n",
       "      <th>635</th>\n",
       "      <th>636</th>\n",
       "      <th>637</th>\n",
       "      <th>638</th>\n",
       "    </tr>\n",
       "  </thead>\n",
       "  <tbody>\n",
       "    <tr>\n",
       "      <td>0</td>\n",
       "      <td>7</td>\n",
       "      <td>0.0</td>\n",
       "      <td>0.0</td>\n",
       "      <td>0.0</td>\n",
       "      <td>0.0</td>\n",
       "      <td>1.0</td>\n",
       "      <td>0.0</td>\n",
       "      <td>0.0</td>\n",
       "      <td>0.0</td>\n",
       "      <td>0.0</td>\n",
       "      <td>...</td>\n",
       "      <td>0.0</td>\n",
       "      <td>0.0</td>\n",
       "      <td>0.0</td>\n",
       "      <td>0.0</td>\n",
       "      <td>0.0</td>\n",
       "      <td>0.0</td>\n",
       "      <td>0.0</td>\n",
       "      <td>0.0</td>\n",
       "      <td>0.0</td>\n",
       "      <td>0.0</td>\n",
       "    </tr>\n",
       "    <tr>\n",
       "      <td>136</td>\n",
       "      <td>6</td>\n",
       "      <td>1.0</td>\n",
       "      <td>1.0</td>\n",
       "      <td>0.0</td>\n",
       "      <td>0.0</td>\n",
       "      <td>0.0</td>\n",
       "      <td>1.0</td>\n",
       "      <td>1.0</td>\n",
       "      <td>2.0</td>\n",
       "      <td>0.0</td>\n",
       "      <td>...</td>\n",
       "      <td>0.0</td>\n",
       "      <td>0.0</td>\n",
       "      <td>0.0</td>\n",
       "      <td>1.0</td>\n",
       "      <td>0.0</td>\n",
       "      <td>1.0</td>\n",
       "      <td>1.0</td>\n",
       "      <td>0.0</td>\n",
       "      <td>0.0</td>\n",
       "      <td>3.0</td>\n",
       "    </tr>\n",
       "    <tr>\n",
       "      <td>126</td>\n",
       "      <td>12</td>\n",
       "      <td>1.0</td>\n",
       "      <td>0.0</td>\n",
       "      <td>1.0</td>\n",
       "      <td>0.0</td>\n",
       "      <td>1.0</td>\n",
       "      <td>0.0</td>\n",
       "      <td>0.0</td>\n",
       "      <td>0.0</td>\n",
       "      <td>1.0</td>\n",
       "      <td>...</td>\n",
       "      <td>0.0</td>\n",
       "      <td>0.0</td>\n",
       "      <td>0.0</td>\n",
       "      <td>0.0</td>\n",
       "      <td>1.0</td>\n",
       "      <td>2.0</td>\n",
       "      <td>0.0</td>\n",
       "      <td>0.0</td>\n",
       "      <td>0.0</td>\n",
       "      <td>3.0</td>\n",
       "    </tr>\n",
       "    <tr>\n",
       "      <td>433</td>\n",
       "      <td>6</td>\n",
       "      <td>0.0</td>\n",
       "      <td>0.0</td>\n",
       "      <td>1.0</td>\n",
       "      <td>0.0</td>\n",
       "      <td>1.0</td>\n",
       "      <td>0.0</td>\n",
       "      <td>0.0</td>\n",
       "      <td>1.0</td>\n",
       "      <td>0.0</td>\n",
       "      <td>...</td>\n",
       "      <td>0.0</td>\n",
       "      <td>0.0</td>\n",
       "      <td>0.0</td>\n",
       "      <td>1.0</td>\n",
       "      <td>0.0</td>\n",
       "      <td>0.0</td>\n",
       "      <td>0.0</td>\n",
       "      <td>0.0</td>\n",
       "      <td>0.0</td>\n",
       "      <td>1.0</td>\n",
       "    </tr>\n",
       "    <tr>\n",
       "      <td>0</td>\n",
       "      <td>7</td>\n",
       "      <td>0.0</td>\n",
       "      <td>0.0</td>\n",
       "      <td>0.0</td>\n",
       "      <td>0.0</td>\n",
       "      <td>1.0</td>\n",
       "      <td>0.0</td>\n",
       "      <td>0.0</td>\n",
       "      <td>0.0</td>\n",
       "      <td>0.0</td>\n",
       "      <td>...</td>\n",
       "      <td>0.0</td>\n",
       "      <td>0.0</td>\n",
       "      <td>0.0</td>\n",
       "      <td>0.0</td>\n",
       "      <td>0.0</td>\n",
       "      <td>0.0</td>\n",
       "      <td>0.0</td>\n",
       "      <td>0.0</td>\n",
       "      <td>0.0</td>\n",
       "      <td>0.0</td>\n",
       "    </tr>\n",
       "  </tbody>\n",
       "</table>\n",
       "<p>5 rows × 233 columns</p>\n",
       "</div>"
      ],
      "text/plain": [
       "     n_events    0    1    2    3    4    5    6    7    8  ...  628  629  \\\n",
       "0           7  0.0  0.0  0.0  0.0  1.0  0.0  0.0  0.0  0.0  ...  0.0  0.0   \n",
       "136         6  1.0  1.0  0.0  0.0  0.0  1.0  1.0  2.0  0.0  ...  0.0  0.0   \n",
       "126        12  1.0  0.0  1.0  0.0  1.0  0.0  0.0  0.0  1.0  ...  0.0  0.0   \n",
       "433         6  0.0  0.0  1.0  0.0  1.0  0.0  0.0  1.0  0.0  ...  0.0  0.0   \n",
       "0           7  0.0  0.0  0.0  0.0  1.0  0.0  0.0  0.0  0.0  ...  0.0  0.0   \n",
       "\n",
       "     630  632  633  634  635  636  637  638  \n",
       "0    0.0  0.0  0.0  0.0  0.0  0.0  0.0  0.0  \n",
       "136  0.0  1.0  0.0  1.0  1.0  0.0  0.0  3.0  \n",
       "126  0.0  0.0  1.0  2.0  0.0  0.0  0.0  3.0  \n",
       "433  0.0  1.0  0.0  0.0  0.0  0.0  0.0  1.0  \n",
       "0    0.0  0.0  0.0  0.0  0.0  0.0  0.0  0.0  \n",
       "\n",
       "[5 rows x 233 columns]"
      ]
     },
     "execution_count": 35,
     "metadata": {},
     "output_type": "execute_result"
    }
   ],
   "source": [
    "X.head()"
   ]
  },
  {
   "cell_type": "code",
   "execution_count": 36,
   "metadata": {},
   "outputs": [],
   "source": [
    "#gb = GradientBoostingClassifier(learning_rate=0.01, n_estimators=100, random_state=rand_seed)\n",
    "from xgboost import XGBClassifier\n",
    "gb = XGBClassifier(learning_rate=0.1, n_estimators=200, random_state=rand_seed)\n",
    "gb.fit(X_train, y_train)\n",
    "\n",
    "y_train_pred = gb.predict(X_train)\n",
    "y_test_pred = gb.predict(X_test)\n",
    "y_hold_pred = gb.predict(X_hold)"
   ]
  },
  {
   "cell_type": "code",
   "execution_count": 37,
   "metadata": {},
   "outputs": [
    {
     "name": "stdout",
     "output_type": "stream",
     "text": [
      "F1 score for train set:  0.9735234215885947\n",
      "F1 score for test set:  0.7972027972027972\n",
      "F1 score for holdout set:  0.7738693467336683\n"
     ]
    }
   ],
   "source": [
    "print('F1 score for train set: ', f1_score(y_train, y_train_pred))\n",
    "print('F1 score for test set: ', f1_score(y_test, y_test_pred))\n",
    "print('F1 score for holdout set: ', f1_score(y_hold, y_hold_pred))"
   ]
  },
  {
   "cell_type": "code",
   "execution_count": 38,
   "metadata": {},
   "outputs": [
    {
     "name": "stdout",
     "output_type": "stream",
     "text": [
      "Confusion matrix for train set: \n"
     ]
    },
    {
     "data": {
      "text/plain": [
       "array([[229,   7],\n",
       "       [  6, 239]])"
      ]
     },
     "execution_count": 38,
     "metadata": {},
     "output_type": "execute_result"
    }
   ],
   "source": [
    "print('Confusion matrix for train set: ')\n",
    "confusion_matrix(y_train, y_train_pred)"
   ]
  },
  {
   "cell_type": "code",
   "execution_count": 39,
   "metadata": {},
   "outputs": [
    {
     "name": "stdout",
     "output_type": "stream",
     "text": [
      "Confusion matrix for test set: \n"
     ]
    },
    {
     "data": {
      "text/plain": [
       "array([[75, 10],\n",
       "       [19, 57]])"
      ]
     },
     "execution_count": 39,
     "metadata": {},
     "output_type": "execute_result"
    }
   ],
   "source": [
    "print('Confusion matrix for test set: ')\n",
    "confusion_matrix(y_test, y_test_pred)"
   ]
  },
  {
   "cell_type": "code",
   "execution_count": 40,
   "metadata": {},
   "outputs": [
    {
     "name": "stdout",
     "output_type": "stream",
     "text": [
      "Confusion matrix for holdout set: \n"
     ]
    },
    {
     "data": {
      "text/plain": [
       "array([[12, 32],\n",
       "       [13, 77]])"
      ]
     },
     "execution_count": 40,
     "metadata": {},
     "output_type": "execute_result"
    }
   ],
   "source": [
    "print('Confusion matrix for holdout set: ')\n",
    "confusion_matrix(y_hold, y_hold_pred)"
   ]
  },
  {
   "cell_type": "code",
   "execution_count": 41,
   "metadata": {},
   "outputs": [
    {
     "name": "stdout",
     "output_type": "stream",
     "text": [
      "Average precision-recall score (PR-AUC): 0.76\n"
     ]
    }
   ],
   "source": [
    "average_precision = average_precision_score(y_test, y_test_pred)\n",
    "\n",
    "print('Average precision-recall score (PR-AUC): {0:0.2f}'.format(\n",
    "      average_precision))"
   ]
  },
  {
   "cell_type": "code",
   "execution_count": 42,
   "metadata": {},
   "outputs": [
    {
     "data": {
      "text/plain": [
       "Text(0.5, 1.0, '2-class Precision-Recall curve: PR-AUC=0.76')"
      ]
     },
     "execution_count": 42,
     "metadata": {},
     "output_type": "execute_result"
    },
    {
     "data": {
      "image/png": "[encoded data removed]",
      "text/plain": [
       "<Figure size 432x288 with 1 Axes>"
      ]
     },
     "metadata": {
      "needs_background": "light"
     },
     "output_type": "display_data"
    }
   ],
   "source": [
    "from sklearn.metrics import precision_recall_curve\n",
    "import matplotlib.pyplot as plt\n",
    "from inspect import signature\n",
    "\n",
    "precision, recall, _ = precision_recall_curve(y_test, y_test_pred)\n",
    "\n",
    "# In matplotlib < 1.5, plt.fill_between does not have a 'step' argument\n",
    "step_kwargs = ({'step': 'post'}\n",
    "               if 'step' in signature(plt.fill_between).parameters\n",
    "               else {})\n",
    "plt.step(recall, precision, color='b', alpha=0.2,\n",
    "         where='post')\n",
    "plt.fill_between(recall, precision, alpha=0.2, color='b', **step_kwargs)\n",
    "\n",
    "plt.xlabel('Recall')\n",
    "plt.ylabel('Precision')\n",
    "plt.ylim([0.0, 1.05])\n",
    "plt.xlim([0.0, 1.0])\n",
    "plt.title('2-class Precision-Recall curve: PR-AUC={0:0.2f}'.format(\n",
    "          average_precision))\n"
   ]
  },
  {
   "cell_type": "code",
   "execution_count": 43,
   "metadata": {},
   "outputs": [
    {
     "data": {
      "text/plain": [
       "<matplotlib.axes._subplots.AxesSubplot at 0x12f5ca9e8>"
      ]
     },
     "execution_count": 43,
     "metadata": {},
     "output_type": "execute_result"
    },
    {
     "data": {
      "image/png": "[encoded data removed]",
      "text/plain": [
       "<Figure size 432x288 with 1 Axes>"
      ]
     },
     "metadata": {
      "needs_background": "light"
     },
     "output_type": "display_data"
    }
   ],
   "source": [
    "feature_importance = pd.Series(gb.feature_importances_, index=X_train.columns)\n",
    "feature_importance.nlargest(15).plot(kind='barh')"
   ]
  },
  {
   "cell_type": "code",
   "execution_count": 44,
   "metadata": {},
   "outputs": [
    {
     "data": {
      "text/plain": [
       "['w_sub_hct_donor_2',\n",
       " 'hct1_dx_5',\n",
       " 'proph_dli_6',\n",
       " 'rel_proph___9',\n",
       " 'w_treatment_induction_7',\n",
       " 'n_events',\n",
       " 'eln_final_index_relapse_6',\n",
       " 'p_dli_paired_cytokine_2',\n",
       " 'e_gvhd_1',\n",
       " 'w_sub_agvh_organs___5',\n",
       " 'w_treatment_consolidation_5',\n",
       " 'w_sub_agvh_grade_1',\n",
       " 'n_events',\n",
       " 'hct1_dx_6',\n",
       " 'w_relapse_2']"
      ]
     },
     "execution_count": 44,
     "metadata": {},
     "output_type": "execute_result"
    }
   ],
   "source": [
    "feature_list = list(feature_importance.nlargest(15).index)\n",
    "[ddict.get(x, 'n_events') for x in feature_list]"
   ]
  },
  {
   "cell_type": "markdown",
   "metadata": {},
   "source": [
    "## Relapse by features"
   ]
  },
  {
   "cell_type": "code",
   "execution_count": 45,
   "metadata": {},
   "outputs": [
    {
     "name": "stdout",
     "output_type": "stream",
     "text": [
      "Feature occurrance for training set\n"
     ]
    },
    {
     "data": {
      "text/plain": [
       "(0, 12)"
      ]
     },
     "execution_count": 45,
     "metadata": {},
     "output_type": "execute_result"
    },
    {
     "data": {
      "image/png": "[encoded data removed]",
      "text/plain": [
       "<Figure size 1080x360 with 2 Axes>"
      ]
     },
     "metadata": {
      "needs_background": "light"
     },
     "output_type": "display_data"
    }
   ],
   "source": [
    "new_train = pd.concat([X_train[feature_list], y_train], axis=1)\n",
    "new_train['y_pred'] = y_train_pred\n",
    "new_train_long = pd.melt(new_train, id_vars=['target', 'y_pred'])\n",
    "\n",
    "print('Feature occurrance for training set')\n",
    "fig, axs = plt.subplots(ncols=2, figsize=(15,5))\n",
    "\n",
    "sns.boxplot(x='variable', \n",
    "            y = 'value', \n",
    "            hue = 'target',\n",
    "            data = new_train_long,\n",
    "            fliersize = 0.1,\n",
    "            ax=axs[1], \n",
    "            order=feature_list).set_ylim(0, 12)\n",
    "\n",
    "sns.boxplot(x='variable', \n",
    "            y = 'value', \n",
    "            hue = 'y_pred',\n",
    "            data = new_train_long,\n",
    "            fliersize = 0.1,\n",
    "            ax=axs[0], \n",
    "            order=feature_list).set_ylim(0, 12)\n",
    "\n",
    "\n",
    "\n"
   ]
  },
  {
   "cell_type": "code",
   "execution_count": 46,
   "metadata": {},
   "outputs": [
    {
     "name": "stdout",
     "output_type": "stream",
     "text": [
      "Feature occurrance for test set\n"
     ]
    },
    {
     "data": {
      "text/plain": [
       "(0, 12)"
      ]
     },
     "execution_count": 46,
     "metadata": {},
     "output_type": "execute_result"
    },
    {
     "data": {
      "image/png": "[encoded data removed]",
      "text/plain": [
       "<Figure size 1080x360 with 2 Axes>"
      ]
     },
     "metadata": {
      "needs_background": "light"
     },
     "output_type": "display_data"
    }
   ],
   "source": [
    "new_train = pd.concat([X_test[feature_list], y_test], axis=1)\n",
    "new_train['y_pred'] = y_test_pred\n",
    "new_train_long = pd.melt(new_train, id_vars=['target', 'y_pred'])\n",
    "\n",
    "print('Feature occurrance for test set')\n",
    "fig, axs = plt.subplots(ncols=2, figsize=(15,5))\n",
    "\n",
    "sns.boxplot(x='variable', \n",
    "            y = 'value', \n",
    "            hue = 'target',\n",
    "            data = new_train_long,\n",
    "            fliersize = 0.1,\n",
    "            ax=axs[1], \n",
    "            order=feature_list).set_ylim(0, 12)\n",
    "\n",
    "sns.boxplot(x='variable', \n",
    "            y = 'value', \n",
    "            hue = 'y_pred',\n",
    "            data = new_train_long,\n",
    "            fliersize = 0.1,\n",
    "            ax=axs[0], \n",
    "            order=feature_list).set_ylim(0, 12)\n",
    "\n"
   ]
  },
  {
   "cell_type": "code",
   "execution_count": 47,
   "metadata": {},
   "outputs": [
    {
     "name": "stdout",
     "output_type": "stream",
     "text": [
      "Feature occurrance for holdout set\n"
     ]
    },
    {
     "data": {
      "text/plain": [
       "(0, 12)"
      ]
     },
     "execution_count": 47,
     "metadata": {},
     "output_type": "execute_result"
    },
    {
     "data": {
      "image/png": "[encoded data removed]",
      "text/plain": [
       "<Figure size 1080x360 with 2 Axes>"
      ]
     },
     "metadata": {
      "needs_background": "light"
     },
     "output_type": "display_data"
    }
   ],
   "source": [
    "new_train = pd.concat([X_hold[feature_list], y_hold], axis=1)\n",
    "new_train['y_pred'] = y_hold_pred\n",
    "new_train_long = pd.melt(new_train, id_vars=['target', 'y_pred'])\n",
    "\n",
    "print('Feature occurrance for holdout set')\n",
    "fig, axs = plt.subplots(ncols=2, figsize=(15,5))\n",
    "\n",
    "sns.boxplot(x='variable', \n",
    "            y = 'value', \n",
    "            hue = 'target',\n",
    "            data = new_train_long,\n",
    "            fliersize = 0.1,\n",
    "            ax=axs[0], \n",
    "            order=feature_list).set_ylim(0, 12)\n",
    "\n",
    "sns.boxplot(x='variable', \n",
    "            y = 'value', \n",
    "            hue = 'y_pred',\n",
    "            data = new_train_long,\n",
    "            fliersize = 0.1,\n",
    "            ax=axs[1], \n",
    "            order=feature_list).set_ylim(0, 12)\n"
   ]
  },
  {
   "cell_type": "markdown",
   "metadata": {},
   "source": [
    "## Params"
   ]
  },
  {
   "cell_type": "code",
   "execution_count": 48,
   "metadata": {},
   "outputs": [
    {
     "name": "stderr",
     "output_type": "stream",
     "text": [
      "/Library/Frameworks/Python.framework/Versions/3.7/lib/python3.7/site-packages/sklearn/model_selection/_search.py:814: DeprecationWarning: The default of the `iid` parameter will change from True to False in version 0.22 and will be removed in 0.24. This will change numeric results when test-set sizes are unequal.\n",
      "  DeprecationWarning)\n"
     ]
    },
    {
     "name": "stdout",
     "output_type": "stream",
     "text": [
      "Best: 0.856878 using {'learning_rate': 0.3, 'n_estimators': 400}\n",
      "0.680917 (0.061414) with: {'learning_rate': 0.01, 'n_estimators': 25}\n",
      "0.695758 (0.059973) with: {'learning_rate': 0.01, 'n_estimators': 50}\n",
      "0.703400 (0.058005) with: {'learning_rate': 0.01, 'n_estimators': 100}\n",
      "0.731600 (0.062157) with: {'learning_rate': 0.01, 'n_estimators': 200}\n",
      "0.743467 (0.060920) with: {'learning_rate': 0.01, 'n_estimators': 300}\n",
      "0.751776 (0.063393) with: {'learning_rate': 0.01, 'n_estimators': 400}\n",
      "0.758140 (0.064816) with: {'learning_rate': 0.01, 'n_estimators': 500}\n",
      "0.715939 (0.061535) with: {'learning_rate': 0.05, 'n_estimators': 25}\n",
      "0.719114 (0.067510) with: {'learning_rate': 0.05, 'n_estimators': 50}\n",
      "0.763682 (0.057622) with: {'learning_rate': 0.05, 'n_estimators': 100}\n",
      "0.759902 (0.076569) with: {'learning_rate': 0.05, 'n_estimators': 200}\n",
      "0.766091 (0.086603) with: {'learning_rate': 0.05, 'n_estimators': 300}\n",
      "0.798261 (0.084111) with: {'learning_rate': 0.05, 'n_estimators': 400}\n",
      "0.809525 (0.081166) with: {'learning_rate': 0.05, 'n_estimators': 500}\n",
      "0.711622 (0.069627) with: {'learning_rate': 0.06, 'n_estimators': 25}\n",
      "0.744174 (0.056633) with: {'learning_rate': 0.06, 'n_estimators': 50}\n",
      "0.747516 (0.061951) with: {'learning_rate': 0.06, 'n_estimators': 100}\n",
      "0.767799 (0.076894) with: {'learning_rate': 0.06, 'n_estimators': 200}\n",
      "0.780094 (0.092986) with: {'learning_rate': 0.06, 'n_estimators': 300}\n",
      "0.806547 (0.079252) with: {'learning_rate': 0.06, 'n_estimators': 400}\n",
      "0.819092 (0.074492) with: {'learning_rate': 0.06, 'n_estimators': 500}\n",
      "0.734142 (0.064406) with: {'learning_rate': 0.1, 'n_estimators': 25}\n",
      "0.737673 (0.066691) with: {'learning_rate': 0.1, 'n_estimators': 50}\n",
      "0.759162 (0.072396) with: {'learning_rate': 0.1, 'n_estimators': 100}\n",
      "0.793279 (0.076397) with: {'learning_rate': 0.1, 'n_estimators': 200}\n",
      "0.823767 (0.075721) with: {'learning_rate': 0.1, 'n_estimators': 300}\n",
      "0.832396 (0.072977) with: {'learning_rate': 0.1, 'n_estimators': 400}\n",
      "0.843392 (0.069553) with: {'learning_rate': 0.1, 'n_estimators': 500}\n",
      "0.737486 (0.054400) with: {'learning_rate': 0.2, 'n_estimators': 25}\n",
      "0.758155 (0.076162) with: {'learning_rate': 0.2, 'n_estimators': 50}\n",
      "0.802389 (0.077448) with: {'learning_rate': 0.2, 'n_estimators': 100}\n",
      "0.835787 (0.060661) with: {'learning_rate': 0.2, 'n_estimators': 200}\n",
      "0.855796 (0.045027) with: {'learning_rate': 0.2, 'n_estimators': 300}\n",
      "0.846013 (0.064913) with: {'learning_rate': 0.2, 'n_estimators': 400}\n",
      "0.849494 (0.052060) with: {'learning_rate': 0.2, 'n_estimators': 500}\n",
      "0.756844 (0.066673) with: {'learning_rate': 0.3, 'n_estimators': 25}\n",
      "0.782616 (0.075930) with: {'learning_rate': 0.3, 'n_estimators': 50}\n",
      "0.826215 (0.074648) with: {'learning_rate': 0.3, 'n_estimators': 100}\n",
      "0.852009 (0.055976) with: {'learning_rate': 0.3, 'n_estimators': 200}\n",
      "0.856221 (0.052707) with: {'learning_rate': 0.3, 'n_estimators': 300}\n",
      "0.856878 (0.047564) with: {'learning_rate': 0.3, 'n_estimators': 400}\n",
      "0.848958 (0.050153) with: {'learning_rate': 0.3, 'n_estimators': 500}\n"
     ]
    },
    {
     "data": {
      "image/png": "[encoded data removed]",
      "text/plain": [
       "<Figure size 432x288 with 1 Axes>"
      ]
     },
     "metadata": {
      "needs_background": "light"
     },
     "output_type": "display_data"
    }
   ],
   "source": [
    "\n",
    "from xgboost import XGBClassifier\n",
    "from sklearn.model_selection import GridSearchCV\n",
    "from sklearn.model_selection import StratifiedKFold\n",
    "import numpy\n",
    "from matplotlib import pyplot\n",
    "\n",
    "# grid search\n",
    "model = XGBClassifier()\n",
    "n_estimators = [25, 50, 100, 200, 300, 400, 500]\n",
    "learning_rate = [0.01, 0.05, 0.06, 0.1, 0.2, 0.3]\n",
    "param_grid = dict(learning_rate=learning_rate, n_estimators=n_estimators)\n",
    "kfold = StratifiedKFold(n_splits=10, shuffle=True, random_state=7)\n",
    "grid_search = GridSearchCV(model, param_grid, scoring=\"f1\", n_jobs=-1, cv=kfold)\n",
    "grid_result = grid_search.fit(X, y)\n",
    "# summarize results\n",
    "print(\"Best: %f using %s\" % (grid_result.best_score_, grid_result.best_params_))\n",
    "means = grid_result.cv_results_['mean_test_score']\n",
    "stds = grid_result.cv_results_['std_test_score']\n",
    "params = grid_result.cv_results_['params']\n",
    "for mean, stdev, param in zip(means, stds, params):\n",
    "\tprint(\"%f (%f) with: %r\" % (mean, stdev, param))\n",
    "# plot results\n",
    "scores = numpy.array(means).reshape(len(learning_rate), len(n_estimators))\n",
    "for i, value in enumerate(learning_rate):\n",
    "    pyplot.plot(n_estimators, scores[i], label='learning_rate: ' + str(value))\n",
    "pyplot.legend()\n",
    "pyplot.xlabel('n_estimators')\n",
    "pyplot.ylabel('F1 Score')\n",
    "pyplot.savefig('n_estimators_vs_learning_rate.png')"
   ]
  },
  {
   "cell_type": "markdown",
   "metadata": {},
   "source": [
    "## SMOTE sampling"
   ]
  },
  {
   "cell_type": "code",
   "execution_count": 156,
   "metadata": {},
   "outputs": [],
   "source": [
    "from imblearn.over_sampling import SMOTE\n",
    "\n",
    "y = main.target\n",
    "X = main.iloc[:, 3:]\n",
    "X_hold = holdout.iloc[:, 3:]\n",
    "y_hold = holdout.target\n",
    "\n",
    "sm = SMOTE(random_state=rand_seed, k_neighbors=20)\n",
    "X_res, y_res = sm.fit_resample(X, y)\n",
    "X_res = pd.DataFrame(X_res, columns = list(X_hold.columns))\n",
    "y_res = pd.DataFrame(y_res)\n",
    "\n",
    "X_train, X_test, y_train, y_test = train_test_split(X_res, y_res, test_size = .25, random_state = rand_seed)\n"
   ]
  },
  {
   "cell_type": "code",
   "execution_count": 157,
   "metadata": {},
   "outputs": [
    {
     "name": "stdout",
     "output_type": "stream",
     "text": [
      "(459, 233)\n",
      "(642, 233)\n"
     ]
    }
   ],
   "source": [
    "print(X.shape)\n",
    "print(X_res.shape)"
   ]
  },
  {
   "cell_type": "code",
   "execution_count": 158,
   "metadata": {},
   "outputs": [
    {
     "name": "stderr",
     "output_type": "stream",
     "text": [
      "/Library/Frameworks/Python.framework/Versions/3.7/lib/python3.7/site-packages/sklearn/preprocessing/label.py:219: DataConversionWarning: A column-vector y was passed when a 1d array was expected. Please change the shape of y to (n_samples, ), for example using ravel().\n",
      "  y = column_or_1d(y, warn=True)\n",
      "/Library/Frameworks/Python.framework/Versions/3.7/lib/python3.7/site-packages/sklearn/preprocessing/label.py:252: DataConversionWarning: A column-vector y was passed when a 1d array was expected. Please change the shape of y to (n_samples, ), for example using ravel().\n",
      "  y = column_or_1d(y, warn=True)\n"
     ]
    }
   ],
   "source": [
    "#gb = GradientBoostingClassifier(learning_rate=0.01, n_estimators=100, random_state=rand_seed)\n",
    "from xgboost import XGBClassifier\n",
    "gb = XGBClassifier(learning_rate=0.1, n_estimators=200, random_state=rand_seed)\n",
    "gb.fit(X_train, y_train)\n",
    "\n",
    "y_train_pred = gb.predict(X_train)\n",
    "y_test_pred = gb.predict(X_test)\n",
    "y_hold_pred = gb.predict(X_hold)"
   ]
  },
  {
   "cell_type": "code",
   "execution_count": 159,
   "metadata": {},
   "outputs": [
    {
     "name": "stdout",
     "output_type": "stream",
     "text": [
      "F1 score for train set:  0.9831932773109243\n",
      "F1 score for test set:  0.8117647058823529\n",
      "F1 score for holdout set:  0.7643979057591622\n"
     ]
    }
   ],
   "source": [
    "print('F1 score for train set: ', f1_score(y_train, y_train_pred))\n",
    "print('F1 score for test set: ', f1_score(y_test, y_test_pred))\n",
    "print('F1 score for holdout set: ', f1_score(y_hold, y_hold_pred))"
   ]
  },
  {
   "cell_type": "code",
   "execution_count": 160,
   "metadata": {},
   "outputs": [
    {
     "name": "stdout",
     "output_type": "stream",
     "text": [
      "Confusion matrix for train set: \n"
     ]
    },
    {
     "data": {
      "text/plain": [
       "array([[239,   6],\n",
       "       [  2, 234]])"
      ]
     },
     "execution_count": 160,
     "metadata": {},
     "output_type": "execute_result"
    }
   ],
   "source": [
    "print('Confusion matrix for train set: ')\n",
    "confusion_matrix(y_train, y_train_pred)"
   ]
  },
  {
   "cell_type": "code",
   "execution_count": 161,
   "metadata": {},
   "outputs": [
    {
     "name": "stdout",
     "output_type": "stream",
     "text": [
      "Confusion matrix for test set: \n"
     ]
    },
    {
     "data": {
      "text/plain": [
       "array([[60, 16],\n",
       "       [16, 69]])"
      ]
     },
     "execution_count": 161,
     "metadata": {},
     "output_type": "execute_result"
    }
   ],
   "source": [
    "print('Confusion matrix for test set: ')\n",
    "confusion_matrix(y_test, y_test_pred)"
   ]
  },
  {
   "cell_type": "code",
   "execution_count": 162,
   "metadata": {},
   "outputs": [
    {
     "name": "stdout",
     "output_type": "stream",
     "text": [
      "Confusion matrix for holdout set: \n"
     ]
    },
    {
     "data": {
      "text/plain": [
       "array([[16, 28],\n",
       "       [17, 73]])"
      ]
     },
     "execution_count": 162,
     "metadata": {},
     "output_type": "execute_result"
    }
   ],
   "source": [
    "print('Confusion matrix for holdout set: ')\n",
    "confusion_matrix(y_hold, y_hold_pred)"
   ]
  },
  {
   "cell_type": "code",
   "execution_count": 163,
   "metadata": {},
   "outputs": [
    {
     "name": "stdout",
     "output_type": "stream",
     "text": [
      "Average precision-recall score (PR-AUC): 0.76\n"
     ]
    }
   ],
   "source": [
    "average_precision = average_precision_score(y_test, y_test_pred)\n",
    "\n",
    "print('Average precision-recall score (PR-AUC): {0:0.2f}'.format(\n",
    "      average_precision))"
   ]
  },
  {
   "cell_type": "code",
   "execution_count": 164,
   "metadata": {},
   "outputs": [
    {
     "data": {
      "text/plain": [
       "Text(0.5, 1.0, '2-class Precision-Recall curve: PR-AUC=0.76')"
      ]
     },
     "execution_count": 164,
     "metadata": {},
     "output_type": "execute_result"
    },
    {
     "data": {
      "image/png": "[encoded data removed]",
      "text/plain": [
       "<Figure size 432x288 with 1 Axes>"
      ]
     },
     "metadata": {
      "needs_background": "light"
     },
     "output_type": "display_data"
    }
   ],
   "source": [
    "from sklearn.metrics import precision_recall_curve\n",
    "import matplotlib.pyplot as plt\n",
    "from inspect import signature\n",
    "\n",
    "precision, recall, _ = precision_recall_curve(y_test, y_test_pred)\n",
    "\n",
    "# In matplotlib < 1.5, plt.fill_between does not have a 'step' argument\n",
    "step_kwargs = ({'step': 'post'}\n",
    "               if 'step' in signature(plt.fill_between).parameters\n",
    "               else {})\n",
    "plt.step(recall, precision, color='b', alpha=0.2,\n",
    "         where='post')\n",
    "plt.fill_between(recall, precision, alpha=0.2, color='b', **step_kwargs)\n",
    "\n",
    "plt.xlabel('Recall')\n",
    "plt.ylabel('Precision')\n",
    "plt.ylim([0.0, 1.05])\n",
    "plt.xlim([0.0, 1.0])\n",
    "plt.title('2-class Precision-Recall curve: PR-AUC={0:0.2f}'.format(\n",
    "          average_precision))\n"
   ]
  },
  {
   "cell_type": "code",
   "execution_count": 167,
   "metadata": {},
   "outputs": [
    {
     "data": {
      "text/plain": [
       "<matplotlib.axes._subplots.AxesSubplot at 0x14670b2e8>"
      ]
     },
     "execution_count": 167,
     "metadata": {},
     "output_type": "execute_result"
    },
    {
     "data": {
      "image/png": "[encoded data removed]",
      "text/plain": [
       "<Figure size 432x288 with 1 Axes>"
      ]
     },
     "metadata": {
      "needs_background": "light"
     },
     "output_type": "display_data"
    }
   ],
   "source": [
    "feature_importance = pd.Series(gb.feature_importances_, index=X_train.columns)\n",
    "feature_importance.nlargest(15).plot(kind='barh')"
   ]
  },
  {
   "cell_type": "code",
   "execution_count": 175,
   "metadata": {},
   "outputs": [
    {
     "data": {
      "text/plain": [
       "['w_relapse_2',\n",
       " 'w_sub_cgvh_organs___1',\n",
       " 'w_treatment_consolidation_4',\n",
       " 'hct2_ucb1_match___2',\n",
       " 'relage_1',\n",
       " 'w_sub_intrathecal___4',\n",
       " 'p_dli_paired_cytokine_7',\n",
       " 'hct1_dx_5',\n",
       " 'hct2_match_2',\n",
       " 'al_origin___1',\n",
       " 'e_response_1',\n",
       " 'proph_dli_2',\n",
       " 'hct1_eln_2',\n",
       " 'bm_blasts_3',\n",
       " 'w_isp_stop_2']"
      ]
     },
     "execution_count": 175,
     "metadata": {},
     "output_type": "execute_result"
    }
   ],
   "source": [
    "feature_list = list(feature_importance.nlargest(15).index)\n",
    "[ddict.get(x, 'n_events') for x in feature_list]"
   ]
  }
 ],
 "metadata": {
  "kernelspec": {
   "display_name": "Python 3",
   "language": "python",
   "name": "python3"
  },
  "language_info": {
   "codemirror_mode": {
    "name": "ipython",
    "version": 3
   },
   "file_extension": ".py",
   "mimetype": "text/x-python",
   "name": "python",
   "nbconvert_exporter": "python",
   "pygments_lexer": "ipython3",
   "version": "3.7.3"
  }
 },
 "nbformat": 4,
 "nbformat_minor": 2
}
